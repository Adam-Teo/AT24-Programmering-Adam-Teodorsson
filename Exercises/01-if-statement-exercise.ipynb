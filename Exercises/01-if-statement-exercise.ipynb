{
 "cells": [
  {
   "cell_type": "markdown",
   "metadata": {},
   "source": [
    "\n",
    "<a href=\"https://colab.research.google.com/github/pr0fez/AI24-Programmering/blob/master/Exercises/01-if-statement-exercise.ipynb\" target=\"_parent\"><img align=\"left\" src=\"https://colab.research.google.com/assets/colab-badge.svg\" alt=\"Open In Colab\"/></a> &nbsp; to see hints and answers."
   ]
  },
  {
   "cell_type": "markdown",
   "metadata": {},
   "source": [
    "# if statements exercises\n",
    "\n",
    "---\n",
    "These are introductory exercises in Python with focus in **if** statement.\n",
    "\n",
    "<p class = \"alert alert-info\" role=\"alert\"><b>Remember</b> to use <b>descriptive variable names</b> in order to get readable code </p>\n",
    "\n",
    "<p class = \"alert alert-info\" role=\"alert\"><b>Remember</b> to format your answers in a neat way using <b>f-strings</b>\n",
    "\n",
    "<p class = \"alert alert-info\" role=\"alert\"><b>Remember</b> to format your input questions in a pedagogical way to guide the user\n",
    "\n",
    "The number of stars (\\*), (\\*\\*), (\\*\\*\\*) denotes the difficulty level of the task\n",
    "\n",
    "---"
   ]
  },
  {
   "cell_type": "markdown",
   "metadata": {},
   "source": [
    "## 1. Check sign (*)\n",
    "\n",
    "Ask the user to input a number and check if this number is **positive**, **negative** or **zero** and print it out."
   ]
  },
  {
   "cell_type": "code",
   "execution_count": 8,
   "metadata": {},
   "outputs": [
    {
     "name": "stdout",
     "output_type": "stream",
     "text": [
      "The number 8 is Positive\n"
     ]
    }
   ],
   "source": [
    "#01.01\n",
    "def check_sign() -> None:\n",
    "    num = \"\"\n",
    "    while True: \n",
    "        if len(num) > 1 and num[0] == '-' and num[1:].isnumeric() or num.isnumeric():\n",
    "            num = int(num)\n",
    "            break\n",
    "        else:\n",
    "            num = input(\"Type in a number: \")\n",
    "        \n",
    "    sign = \"Positive\" if num > 0 else \"Negative\" if num < 0 else \"Zero\"\n",
    "    print( f\"The number {num} is {sign}\")\n",
    "\n",
    "check_sign()"
   ]
  },
  {
   "cell_type": "markdown",
   "metadata": {},
   "source": [
    "---\n",
    "## 2. Smallest (*)\n",
    "Ask the user to input two numbers and check which one is the smallest and print it out.   "
   ]
  },
  {
   "cell_type": "code",
   "execution_count": 16,
   "metadata": {},
   "outputs": [
    {
     "name": "stdout",
     "output_type": "stream",
     "text": [
      "The smallest number is: None, there both equal in value\n"
     ]
    }
   ],
   "source": [
    "#01.02\n",
    "def is_numeric(txt:str)->bool:\n",
    "    return len(txt) > 1 and txt[0] == '-' and txt[1:].isnumeric() or txt.isnumeric()\n",
    "\n",
    "def smallest()->None:\n",
    "    num_a = \"\"\n",
    "    num_b = \"\"\n",
    "    while is_numeric(num_a) == False:\n",
    "        num_a=input(\"First Number: \")\n",
    "    else: \n",
    "        num_a = int(num_a)\n",
    "    \n",
    "    while is_numeric(num_b) == False:\n",
    "        num_b=input(\"Second Number: \")\n",
    "    else: \n",
    "        num_b = int(num_b)\n",
    "    smallest_number = num_a if num_a < num_b else num_b if num_b < num_a else \"None, there both equal in value\"\n",
    "    print(f\"The smallest number is: {smallest_number}\")\n",
    "smallest()"
   ]
  },
  {
   "cell_type": "markdown",
   "metadata": {},
   "source": [
    "---\n",
    "## 3. Right angle (*)\n",
    "\n",
    "Ask the user to input three angles and check if the triangle has a right angle. Your code should make sure that all three angles are valid and make up a triangle.\n",
    "\n",
    "<img align=\"left\" src=\"../assets/triangle_angles.png\" width=\"200\"/>"
   ]
  },
  {
   "cell_type": "code",
   "execution_count": 32,
   "metadata": {},
   "outputs": [
    {
     "name": "stdout",
     "output_type": "stream",
     "text": [
      "False\n"
     ]
    }
   ],
   "source": [
    "#01.03\n",
    "#def is_numeric(txt:str)->bool:\n",
    "#   return len(txt) > 1 and txt[0] == '-' and txt[1:].isnumeric() or txt.isnumeric()\n",
    "def is_numeric_angle(txt:str)->bool:\n",
    "    return txt.isnumeric() and 0 < txt.isnumeric() < 178\n",
    "\n",
    "def input_number(num:int=1)->tuple:\n",
    "    answer = [str() for _ in range(num)]\n",
    "    for i in range(len(answer)):\n",
    "        while is_numeric_angle(answer[i]) == False:\n",
    "            answer[i] = input(f\"Input number {i+1}: \")\n",
    "        answer[i] = int(answer[i])\n",
    "    return tuple(answer)\n",
    "\n",
    "\n",
    "def right_angle()->None:\n",
    "    num_a, num_b, num_c = (str(), str(), str())\n",
    "    while num_a + num_b + num_c != 180 : \n",
    "        num_a, num_b, num_c = input_number(3)\n",
    "\n",
    "    has_right_angle = True if num_a == 45 or num_b == 45 or num_c == 45 else False\n",
    "    print(has_right_angle)\n",
    "\n",
    "right_angle()"
   ]
  },
  {
   "cell_type": "markdown",
   "metadata": {},
   "source": [
    "----\n",
    "## 4. Medicine (*)\n",
    "\n",
    "The information in the following table is stated in a medicine package. Also it is stated that for children weight is more important than age.\n",
    "\n",
    "<table align=\"left\">\n",
    "<thead>\n",
    "    <tr>\n",
    "        <th></th>\n",
    "        <th>Age</th>\n",
    "        <th>Number of pills</th>\n",
    "    </tr>\n",
    "</thead>\n",
    "\n",
    "<tbody>\n",
    "  <tr>\n",
    "    <td>Adults & adolescent <br>over 40 kg</td>\n",
    "    <td>over 12 years</td>\n",
    "    <td>1-2</td>\n",
    "  </tr>\n",
    "\n",
    "  <tr>\n",
    "    <td>Children 26-40 kg</td>\n",
    "    <td>7-12 years</td>\n",
    "    <td>1/2-1</td>\n",
    "  </tr>\n",
    "\n",
    "  <tr>\n",
    "    <td>Children 15-25 kg</td>\n",
    "    <td>3-7 years</td>\n",
    "    <td>1/2</td>\n",
    "  </tr>\n",
    "</tbody>\n",
    "</table>"
   ]
  },
  {
   "cell_type": "markdown",
   "metadata": {},
   "source": [
    "Let the user input an **age** and a **weight**, the program should recommend the number of pills for the user."
   ]
  },
  {
   "cell_type": "code",
   "execution_count": 44,
   "metadata": {},
   "outputs": [
    {
     "name": "stdout",
     "output_type": "stream",
     "text": [
      "Weight above then 40, we recommend 1 to 2 pills\n"
     ]
    }
   ],
   "source": [
    "#01.04\n",
    "def is_numeric(txt:str)->bool:\n",
    "    return txt.isnumeric()\n",
    "\n",
    "def input_number(message:tuple=(\"Input number: \",), num:int=1)->tuple:\n",
    "    answer = [str() for _ in range(num)]\n",
    "    for i in range(len(answer)):\n",
    "        while is_numeric(answer[i]) == False:\n",
    "            answer[i] = input(message[i])\n",
    "        answer[i] = int(answer[i])\n",
    "    return tuple(answer)\n",
    "\n",
    "\n",
    "def medecin()->None:\n",
    "    age, weight = input_number((\"Input Age: \", \"Input Weight: \"), 2)\n",
    "    rec = str()\n",
    "    \n",
    "    if 15 > weight:\n",
    "        rec = \"Your childs is weight is to low for this medication, please refer to a doctor.\"\n",
    "    elif 3 > age: \n",
    "        rec = \"Your childs is to young for this medication, please refer to a doctor.\"\n",
    "    elif 2 < age < 8 and 14 < weight < 26:\n",
    "        rec = \"Age between 3 and 7, we recommend 1/2 pill\"\n",
    "    elif 6 < age < 13 and 25 < weight < 41:\n",
    "        rec = \"Age between 7 and 12, we recommend 1/2 to 1 pill\"\n",
    "    elif 12 < age and 39 < weight:\n",
    "        rec = \"Age above 12 we recommend 1 to 2 pills\"\n",
    "    elif weight < 26:\n",
    "        rec = \"Weight lower then 26, we recommend 1/2 pill\"\n",
    "    elif weight < 41:\n",
    "        rec = \"Weight lower then 41, we recommend 1/2 to 1 pill\"\n",
    "    else:\n",
    "        rec = \"Weight above then 40, we recommend 1 to 2 pills\"\n",
    "    print(rec)\n",
    "medecin()"
   ]
  },
  {
   "cell_type": "markdown",
   "metadata": {},
   "source": [
    "---\n",
    "## 5. Divisible (*)\n",
    "Let the user input a number. Check if the number is\n",
    "<ol type=\"a\">\n",
    "  <li>even or odd</li>\n",
    "  <li>is divisible by 5</li>\n",
    "  <li>is divisble by 5 and odd</li>\n",
    "</ol> "
   ]
  },
  {
   "cell_type": "code",
   "execution_count": 52,
   "metadata": {},
   "outputs": [
    {
     "name": "stdout",
     "output_type": "stream",
     "text": [
      "a: The number is even\n",
      "b: The number is divisable by five\n",
      "\n"
     ]
    }
   ],
   "source": [
    "#01.05\n",
    "\n",
    "def is_numeric(txt:str)->bool:\n",
    "    return txt.isnumeric()\n",
    "\n",
    "def input_number(message:tuple=(\"Input number: \",), num:int=1)->tuple:\n",
    "    answer = [str() for _ in range(num)]\n",
    "    for i in range(len(answer)):\n",
    "        while is_numeric(answer[i]) == False:\n",
    "            answer[i] = input(message[i])\n",
    "        answer[i] = int(answer[i])\n",
    "    return tuple(answer)\n",
    "\n",
    "\n",
    "def divisible()->None:\n",
    "    num = input_number(num=1)[0]\n",
    "    result = \"a: The number is even\\n\" if num%2 == 0 else \"a: The number is odd\\n\"\n",
    "    result += \"b: The number is divisable by five\\n\" if num%5 == 0  else \"\"\n",
    "    result += \"c: The number is divisable by five and odd\\n\" if num%5 == 0 and num%2 else \"\"\n",
    "    print(result)\n",
    "divisible()"
   ]
  },
  {
   "cell_type": "markdown",
   "metadata": {},
   "source": [
    "---\n",
    "## 6. Luggage size (*)\n",
    "\n",
    "The maximum allowed luggage size for boarding an airplane is: \n",
    "- weight: 8kg\n",
    "- dimensions: 55x40x23cm (length x width x height) \n",
    "\n",
    "Let the user input weight, length, width and height of the luggage. The program should check if the luggage is allowed or not."
   ]
  },
  {
   "cell_type": "code",
   "execution_count": 55,
   "metadata": {},
   "outputs": [
    {
     "name": "stdout",
     "output_type": "stream",
     "text": [
      "Your luggage does not meet the weight, length, width and height requirment, you may not board the plane.\n"
     ]
    }
   ],
   "source": [
    "#01.06\n",
    "\n",
    "def is_numeric(txt:str)->bool:\n",
    "    return txt.isnumeric()\n",
    "\n",
    "def input_number(message:tuple=(\"Input number: \",), num:int=1)->tuple:\n",
    "    answer = [str() for _ in range(num)]\n",
    "    for i in range(len(answer)):\n",
    "        while is_numeric(answer[i]) == False:\n",
    "            answer[i] = input(message[i])\n",
    "        answer[i] = int(answer[i])\n",
    "    return tuple(answer)\n",
    "\n",
    "\n",
    "def luggage_size()->None:\n",
    "    weight, length, width, height = input_number((\"Input weight in kg: \", \"Input length in cm: \",\"Input weidth in cm: \",\"Input height in cm: \",), 4)\n",
    "    board_yes = \"Your luggage meets the weight, length, width and height requirment, you may now board the plane.\"\n",
    "    board_no  = \"Your luggage does not meet the weight, length, width and height requirment, you may not board the plane.\"\n",
    "    result =  board_yes if weight <= 8 and length <= 55 and width <= 40 and height <= 23 else board_no \n",
    "            \n",
    "    print(result)\n",
    "\n",
    "luggage_size()"
   ]
  },
  {
   "cell_type": "markdown",
   "metadata": {},
   "source": [
    "---\n",
    "\n",
    "pr0fez Giang\n",
    "\n",
    "[LinkedIn][linkedIn_pr0fez]\n",
    "\n",
    "[GitHub portfolio][github_portfolio]\n",
    "\n",
    "[linkedIn_pr0fez]: https://www.linkedin.com/in/pr0fezgiang/\n",
    "[github_portfolio]: https://github.com/pr0fez/Portfolio-pr0fez-Giang\n",
    "\n",
    "---"
   ]
  }
 ],
 "metadata": {
  "kernelspec": {
   "display_name": "Python 3.9.6 64-bit",
   "language": "python",
   "name": "python3"
  },
  "language_info": {
   "codemirror_mode": {
    "name": "ipython",
    "version": 3
   },
   "file_extension": ".py",
   "mimetype": "text/x-python",
   "name": "python",
   "nbconvert_exporter": "python",
   "pygments_lexer": "ipython3",
   "version": "3.12.5"
  },
  "orig_nbformat": 4,
  "vscode": {
   "interpreter": {
    "hash": "0da836a34428266995a795f1e1e27b816fa1c02f148d9728b3fbbbc5459afca6"
   }
  }
 },
 "nbformat": 4,
 "nbformat_minor": 2
}
