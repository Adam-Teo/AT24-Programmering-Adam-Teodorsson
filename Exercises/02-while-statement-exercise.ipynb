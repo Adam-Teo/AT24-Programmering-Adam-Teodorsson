{
 "cells": [
  {
   "cell_type": "markdown",
   "metadata": {},
   "source": [
    "<a href=\"https://colab.research.google.com/github/pr0fez/AI24-Programmering/blob/master/Exercises/02-while-statement-exercise.ipynb\" target=\"_parent\"><img align=\"left\" src=\"https://colab.research.google.com/assets/colab-badge.svg\" alt=\"Open In Colab\"/></a> &nbsp; to see hints and answers."
   ]
  },
  {
   "cell_type": "markdown",
   "metadata": {},
   "source": [
    "# while statement exercises\n",
    "\n",
    "---\n",
    "These are introductory exercises in Python with focus in **while** statement.\n",
    "\n",
    "<p class = \"alert alert-info\" role=\"alert\"><b>Remember</b> to use <b>descriptive variable names</b> in order to get readable code </p>\n",
    "\n",
    "<p class = \"alert alert-info\" role=\"alert\"><b>Remember</b> to format your answers in a neat way using <b>f-strings</b>\n",
    "\n",
    "<p class = \"alert alert-info\" role=\"alert\"><b>Remember</b> to format your input questions in a pedagogical way to guide the user\n",
    "\n",
    "The number of stars (\\*), (\\*\\*), (\\*\\*\\*) denotes the difficulty level of the task\n",
    "\n",
    "---"
   ]
  },
  {
   "cell_type": "markdown",
   "metadata": {},
   "source": [
    "## 1. Count numbers (*)\n",
    "\n",
    "Use a **while** statement to count from -10 to 10 with one increment. \n",
    "\n",
    "<details>\n",
    "\n",
    "<summary>Hint </summary>\n",
    "\n",
    "```python\n",
    "\n",
    "i += 1 # adds one and assigns it to i, equivalent to i = i + 1\n",
    "```\n",
    "\n",
    "</details>\n",
    "<br>\n",
    "<details>\n",
    "\n",
    "<summary>Answer </summary>\n",
    "\n",
    "```\n",
    "\n",
    "-10 -9 -8 -7 -6 -5 -4 -3 -2 -1 0 1 2 3 4 5 6 7 8 9 10\n",
    "```\n",
    "\n",
    "</details>\n"
   ]
  },
  {
   "cell_type": "code",
   "execution_count": 2,
   "metadata": {},
   "outputs": [
    {
     "name": "stdout",
     "output_type": "stream",
     "text": [
      "-10, -9, -8, -7, -6, -5, -4, -3, -2, -1, 0, 1, 2, 3, 4, 5, 6, 7, 8, 9, 10, "
     ]
    }
   ],
   "source": [
    "#02.01\n",
    "\n",
    "num = -10 \n",
    "while num < 11: \n",
    "    print(num, end=\", \")\n",
    "    num += 1 "
   ]
  },
  {
   "cell_type": "markdown",
   "metadata": {},
   "source": [
    "--- \n",
    "## 2. Arithmetic sum (*)\n",
    "Use a **while** statement to compute the following sums: \n",
    "\n",
    "&nbsp; a) &nbsp; $\\text{sum} = 1 + 2 + \\ldots + 99+ 100$\n",
    "\n",
    "&nbsp; b) &nbsp; $\\text{sum} = 1 + 3 + 5 + \\ldots + 97 + 99$\n",
    "\n",
    "<details>\n",
    "\n",
    "<summary>Answer </summary>\n",
    "\n",
    "```\n",
    "a) 1 + 2 + ... + 99 + 100 = 5050 \n",
    "\n",
    "b) 1 + 3 + 5 +...+ 97 + 99 = 2500\n",
    "```\n",
    "\n",
    "</details>"
   ]
  },
  {
   "cell_type": "code",
   "execution_count": 3,
   "metadata": {},
   "outputs": [
    {
     "name": "stdout",
     "output_type": "stream",
     "text": [
      "a) sum = 5050\n",
      "b) sum = 2500\n"
     ]
    }
   ],
   "source": [
    "#02.02\n",
    "def sum_range(counter:int, end:int, step:int=1)->int:\n",
    "    sum = int()  \n",
    "    while counter < end:\n",
    "        sum += counter \n",
    "        counter += step\n",
    "    return sum\n",
    "\n",
    "print( f\"a) sum = {sum_range(1, 101)}\")\n",
    "print( f\"b) sum = {sum_range(1, 100, 2)}\") "
   ]
  },
  {
   "cell_type": "markdown",
   "metadata": {},
   "source": [
    "--- \n",
    "## 3. Guess number game (*)\n",
    "&nbsp; a) &nbsp; Create a guessing number game following this flow chart: \n",
    "\n",
    "<img align=\"left\" src=\"../assets/guessing_game.png\" width=\"300\"/>"
   ]
  },
  {
   "cell_type": "markdown",
   "metadata": {},
   "source": [
    "&nbsp; b) &nbsp; Make an algorithm to automatically guess the correct number. Can you optimize to get as few guesses as possible? (**)\n",
    "\n",
    "<details>\n",
    "\n",
    "<summary>Hint </summary>\n",
    "\n",
    "&nbsp; b) &nbsp; Half your testing number each time \n",
    "\n",
    "</details>"
   ]
  },
  {
   "cell_type": "code",
   "execution_count": 37,
   "metadata": {},
   "outputs": [],
   "source": [
    "#02.03a\n",
    "from random import randint as rng \n",
    "\n",
    "def is_number(question:str, wrong_answer:str)->int:\n",
    "    while True: \n",
    "        answer = input(question)\n",
    "        if answer.isnumeric():\n",
    "            return int(answer)\n",
    "        else:\n",
    "            input(wrong_answer)\n",
    "\n",
    "\n",
    "\n",
    "secret_number = rng(1, 100)\n",
    "\n",
    "\n",
    "\n",
    "def guess_human():\n",
    "    tries = 0\n",
    "    high = 100\n",
    "    low = 1\n",
    "    \n",
    "    while True:\n",
    "        guess=is_number(f\"Guess a number between {low} and {high}\", \"Your answer is not a valid number, try again.\")\n",
    "        tries += 1\n",
    "        if guess == secret_number:\n",
    "            input(f\"Your guess is correct {guess} is the secret number, you wins the game in {tries} tries.\") \n",
    "            break\n",
    "        elif guess < secret_number:\n",
    "            input(f\"{guess} is to low, try again.\")\n",
    "            low = guess if guess > low else low\n",
    "        else:\n",
    "            input(f\"{guess} is to high, try again.\")\n",
    "            high = guess if guess < high else high\n",
    "        \n",
    "\n",
    "guess_human()\n",
    "\n"
   ]
  },
  {
   "cell_type": "code",
   "execution_count": 5,
   "metadata": {},
   "outputs": [],
   "source": [
    "#02.03b\n",
    "from random import randint as rng \n",
    "import math\n",
    "\n",
    "def is_number(question:str, wrong_answer:str)->int:\n",
    "    while True: \n",
    "        answer = input(question)\n",
    "        if answer.isnumeric():\n",
    "            return int(answer)\n",
    "        else:\n",
    "            input(wrong_answer)\n",
    "\n",
    "\n",
    "\n",
    "#secret_number = rng(1, 100)\n",
    "secret_number = 49\n",
    "\n",
    "def guess_cpu():\n",
    "    tries = 0\n",
    "    high = 100\n",
    "    low = 1\n",
    "    \n",
    "    while True:\n",
    "        \n",
    "        guess = round( high-(high - low) / 2 ) if high != 2 else 1 \n",
    "  \n",
    "        tries += 1\n",
    "        if guess == secret_number:\n",
    "            input(f\"The computers guess is correct {guess} is the secret number, it wins the game in {tries} tries.\") \n",
    "            break\n",
    "        elif guess < secret_number:\n",
    "            input(f\"{guess} is to low, the cpu will try again.\")\n",
    "            low = guess if guess > low else low\n",
    "        else:\n",
    "            input(f\"{guess} is to high, the cpu will try again.\")\n",
    "            high = guess if guess < high else high\n",
    "        \n",
    "\n",
    "guess_cpu()\n"
   ]
  },
  {
   "cell_type": "markdown",
   "metadata": {},
   "source": [
    "--- \n",
    "## 4. Multiplication game (*)\n",
    "&nbsp; a) &nbsp; Create a multiplication game following this flow chart: \n",
    "\n",
    "<img align=\"left\" src=\"../assets/Multiplication_game.png\" width=\"300\"/>"
   ]
  },
  {
   "cell_type": "markdown",
   "metadata": {},
   "source": [
    "&nbsp; b) &nbsp; Add a menu for choosing difficulty level of the game\n",
    "\n",
    "&nbsp; c) &nbsp; Feel free to extend this program with features of your choice."
   ]
  },
  {
   "cell_type": "code",
   "execution_count": 24,
   "metadata": {},
   "outputs": [],
   "source": [
    "#02.04a,04b,04c\n",
    "from random import randint as rng \n",
    "\n",
    "def is_number(question:str, wrong_answer:str)->int:\n",
    "    while True: \n",
    "        answer = input(question)\n",
    "        if answer.isnumeric() or len(answer) > 1 and answer[0] == \"-\" and answer[1:].isnumeric():\n",
    "            return int(answer)\n",
    "        else:\n",
    "            input(wrong_answer)\n",
    "\n",
    "\n",
    "\n",
    "\n",
    "\n",
    "def guess_multi():\n",
    "    score = 0\n",
    "    play_again = str()\n",
    "    \n",
    "    while True:\n",
    "\n",
    "        operator = 0\n",
    "        while 1>operator or operator>3:\n",
    "            operator = is_number(f\"Pick type of aritmetik\\n 1: +\\n2: -\\n 3: *\", \"Your answer is not a valid number, try again.\")\n",
    "        else:\n",
    "            operator -= 1\n",
    "    \n",
    "        level = 0 \n",
    "        while 1>level or level>3:\n",
    "            level = is_number(f\"Pick difficulty level 1-3\", \"Your answer is not a valid number, try again.\")\n",
    "       \n",
    "        opl = [   \n",
    "            ['+',lambda xy: xy[0] + xy[1]],\n",
    "            ['-',lambda xy: xy[0] - xy[1]],\n",
    "            ['*',lambda xy: xy[0] * xy[1]],\n",
    "            ]\n",
    "        \n",
    "        x = rng(1, 10*level)\n",
    "        y = rng(1, 10*level)\n",
    "        \n",
    "\n",
    "        guess=is_number(f\"What is {x} {opl[operator][0]} {y}?\", \"Your answer is not a valid number, try again.\")\n",
    "        if guess == opl[operator][1]((x,y)):\n",
    "            score += 25\n",
    "            play_again = input(f\"Your guess is correct {x} {opl[operator][0]} {y} is equal to {opl[operator][1]((x,y))}, your score is {score} is. Would you like to play again? (y/n)\") \n",
    "        else: \n",
    "            play_again = input(f\"Your guess {guess} was wrong, {x} {opl[operator][0]} {y} is equal to {opl[operator][1]((x,y))}. Your final score is {score}, would you like to play again (y/n)?\" )\n",
    "            score = 0\n",
    "        if play_again == 'n' : \n",
    "            break \n",
    "\n",
    "guess_multi()"
   ]
  },
  {
   "cell_type": "markdown",
   "metadata": {},
   "source": [
    "--- \n",
    "## 5. Check convergence (**)\n",
    "Use a while statement to compute the following sums: \n",
    "\n",
    "&nbsp; a) &nbsp; $\\text{sum} = 1 + \\frac{1}{2} + \\frac{1}{4} + \\frac{1}{8} + \\dots + \\frac{1}{2^n}$\n",
    "\n",
    "&nbsp; b) &nbsp; $\\text{sum} = 1 - \\frac{1}{3} + \\frac{1}{5} - \\frac{1}{7} + \\dots + \\frac{(-1)^n}{2n+1}$\n",
    "\n",
    "Try different values on $n$ to see which value it converges to.\n",
    "\n",
    "<details>\n",
    "\n",
    "<summary>Answer </summary>\n",
    "\n",
    "&nbsp; a) &nbsp; $1 + \\frac{1}{2} + \\frac{1}{4} + \\frac{1}{8} + \\dots + \\frac{1}{2^n} \\xrightarrow[n\\rightarrow \\infty]{} 2$ \n",
    "\n",
    "&nbsp; b) &nbsp; $ 1 - \\frac{1}{3} + \\frac{1}{5} - \\frac{1}{7} + \\dots + \\frac{(-1)^n}{2n+1} \\xrightarrow[n\\rightarrow \\infty]{} \\frac{\\pi}{4}$\n",
    "\n",
    "</details>"
   ]
  },
  {
   "cell_type": "code",
   "execution_count": 5,
   "metadata": {},
   "outputs": [
    {
     "name": "stdout",
     "output_type": "stream",
     "text": [
      "Number of iterations: 1000002\n",
      " 0.7854 or 0.2500n\n"
     ]
    }
   ],
   "source": [
    "#Code Along\n",
    "import numpy as np\n",
    "\n",
    "def  term(n):\n",
    "    return np.divide(np.float_power((-1), n), 2*n+1)\n",
    "term(20)\n",
    "n = 0\n",
    "acc = 0\n",
    "v = 0\n",
    "e = 1\n",
    "while e > np.float_power(10, -6):\n",
    "    prev = v \n",
    "    v = term(n)\n",
    "    e = np.absolute(prev - v)\n",
    "    acc += v\n",
    "    n += 1 \n",
    "\n",
    "# .f rounds aka does not trunkate\n",
    "print(f\"Number of iterations: {n}\\n {acc:.4f} or {np.divide(acc, np.pi):.4f}n\")"
   ]
  },
  {
   "cell_type": "code",
   "execution_count": 63,
   "metadata": {},
   "outputs": [
    {
     "name": "stdout",
     "output_type": "stream",
     "text": [
      "sum 0.8020 or 0.2553\n"
     ]
    }
   ],
   "source": [
    "# Code Along\n",
    "import numpy as np\n",
    "#x = np.arange(1_000_000)\n",
    "x = np.arange(15)\n",
    "s = np.sum(term(x))\n",
    "print(f\"sum {s:.4f} or {np.divide(s, np.pi):.4f}\")"
   ]
  },
  {
   "cell_type": "code",
   "execution_count": 31,
   "metadata": {},
   "outputs": [
    {
     "name": "stdout",
     "output_type": "stream",
     "text": [
      "1.9999999403953552\n"
     ]
    }
   ],
   "source": [
    "#03.05a\n",
    "sum = 1\n",
    "div = 2\n",
    "n = 25\n",
    "while div < 2**n:\n",
    "    sum += 1 / div \n",
    "    div=div*2\n",
    "\n",
    "print(sum)"
   ]
  },
  {
   "cell_type": "code",
   "execution_count": 62,
   "metadata": {},
   "outputs": [
    {
     "name": "stdout",
     "output_type": "stream",
     "text": [
      "sum = 0.8020 || n = 15  \n"
     ]
    }
   ],
   "source": [
    "#04.05b\n",
    "sum = 1\n",
    "div = 1\n",
    "n = 15\n",
    "counter = 0\n",
    "\n",
    "while counter < n-1:\n",
    "    div += 2 \n",
    "    sum = sum - 1/div if counter%2 == 0 else sum + 1/div\n",
    "    counter += 1 \n",
    "#print(sum, counter)\n",
    "\n",
    "print(f\"{sum = :.4f} || {n = }  \")\n",
    "#-1/(2**20+1)\n"
   ]
  },
  {
   "cell_type": "markdown",
   "metadata": {},
   "source": [
    "---\n",
    "\n",
    "pr0fez Giang\n",
    "\n",
    "[LinkedIn][linkedIn_pr0fez]\n",
    "\n",
    "[GitHub portfolio][github_portfolio]\n",
    "\n",
    "[linkedIn_pr0fez]: https://www.linkedin.com/in/pr0fezgiang/\n",
    "[github_portfolio]: https://github.com/pr0fez/Portfolio-pr0fez-Giang\n",
    "\n",
    "---"
   ]
  }
 ],
 "metadata": {
  "kernelspec": {
   "display_name": "Python 3.9.6 64-bit",
   "language": "python",
   "name": "python3"
  },
  "language_info": {
   "codemirror_mode": {
    "name": "ipython",
    "version": 3
   },
   "file_extension": ".py",
   "mimetype": "text/x-python",
   "name": "python",
   "nbconvert_exporter": "python",
   "pygments_lexer": "ipython3",
   "version": "3.12.5"
  },
  "orig_nbformat": 4,
  "vscode": {
   "interpreter": {
    "hash": "0da836a34428266995a795f1e1e27b816fa1c02f148d9728b3fbbbc5459afca6"
   }
  }
 },
 "nbformat": 4,
 "nbformat_minor": 2
}
