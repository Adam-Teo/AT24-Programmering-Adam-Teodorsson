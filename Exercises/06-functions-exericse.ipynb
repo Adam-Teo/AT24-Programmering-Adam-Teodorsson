{
 "cells": [
  {
   "cell_type": "markdown",
   "metadata": {},
   "source": [
    "\n",
    "<a href=\"https://colab.research.google.com/github/pr0fez/AI24-Programmering/blob/master/Exercises/06-functions-exericse.ipynb\" target=\"_parent\"><img align=\"left\" src=\"https://colab.research.google.com/assets/colab-badge.svg\" alt=\"Open In Colab\"/></a> &nbsp; to see hints and answers."
   ]
  },
  {
   "cell_type": "markdown",
   "metadata": {},
   "source": [
    "# functions exercises\n",
    "\n",
    "---\n",
    "These are introductory exercises in Python with focus in **functions**.\n",
    "\n",
    "<p class = \"alert alert-info\" role=\"alert\"><b>Remember</b> to use <b>descriptive variable and function names</b> in order to get readable code </p>\n",
    "\n",
    "<p class = \"alert alert-info\" role=\"alert\"><b>Remember</b> to format your answers in a neat way using <b>f-strings</b>\n",
    "\n",
    "<p class = \"alert alert-info\" role=\"alert\"><b>Remember</b> to format your input questions in a pedagogical way to guide the user\n",
    "\n",
    "The number of stars (\\*), (\\*\\*), (\\*\\*\\*) denotes the difficulty level of the task\n",
    "\n",
    "---"
   ]
  },
  {
   "cell_type": "markdown",
   "metadata": {},
   "source": [
    "## 1. Area (*)\n",
    "\n",
    "Create a function that takes the base and height of a triangle as input parameters and returns the area of the triangle."
   ]
  },
  {
   "cell_type": "code",
   "execution_count": 4,
   "metadata": {},
   "outputs": [
    {
     "name": "stdout",
     "output_type": "stream",
     "text": [
      "16.5\n"
     ]
    }
   ],
   "source": [
    "#06.01 \n",
    "\n",
    "def area(base:int, height:int)->float:\n",
    "    return (base * height) / 2 \n",
    "\n",
    "print( area(11,3) )"
   ]
  },
  {
   "cell_type": "markdown",
   "metadata": {},
   "source": [
    "---\n",
    "\n",
    "## 2. Euclidean distance (*)\n",
    "\n",
    "The formula for Euclidean distance in 2D between $P: (p_1, p_2)$ and $Q: (q_1, q_2)$  is: \n",
    "\n",
    "$d(P,Q) = \\sqrt{(p_1-q_1)^2 + (p_2-q_2)^2}$\n",
    "\n",
    "&nbsp; a) &nbsp; Create a function that takes two points as input parameters and return the Euclidean between them. (*)\n",
    "\n",
    "&nbsp; b) &nbsp; Let the user input two points. Call the function using the users input points. (*)\n",
    "\n",
    "&nbsp; c) &nbsp; Use your function to calculate distances between the origin (0, 0) and each of these points: (10, 3), (-1, -9), (10, -10), (4, -2), (9, -10). (*)\n",
    "\n",
    "<details>\n",
    "\n",
    "<summary>Hint</summary>\n",
    "\n",
    "Use a **for** statement\n",
    "\n",
    "</details>\n",
    "<br>\n",
    "<details>\n",
    "\n",
    "<summary>Answer</summary>\n",
    "\n",
    "c)\n",
    "\n",
    "```\n",
    "[10.4, 9.1, 14.1, 4.5, 13.5]\n",
    "```\n",
    "\n",
    "</details>\n"
   ]
  },
  {
   "cell_type": "code",
   "execution_count": 6,
   "metadata": {},
   "outputs": [
    {
     "name": "stdout",
     "output_type": "stream",
     "text": [
      "6.4031242374328485\n"
     ]
    }
   ],
   "source": [
    "#06.02a\n",
    "import math\n",
    "def euclidean_distance(p:tuple,q:tuple)->float:\n",
    "    return math.sqrt( (q[0]-p[0])**2 + (q[1]-p[1])**2 )\n",
    "print( f\"a) {euclidean_distance((2,4),(6,9))}\" )"
   ]
  },
  {
   "cell_type": "code",
   "execution_count": 21,
   "metadata": {},
   "outputs": [
    {
     "name": "stdout",
     "output_type": "stream",
     "text": [
      "b) 11.180339887498949\n"
     ]
    }
   ],
   "source": [
    "#06.02b\n",
    "def input_number(question:int=\"Input a number:\")->int:\n",
    "    while True: \n",
    "        answer = input(question)\n",
    "        if answer.isnumeric() or len(answer)>1 and answer[0]==\"-\" and answer[1:].isnumeric():\n",
    "            return int(answer)\n",
    "        else:\n",
    "            input(\"Not a number, try again: \")\n",
    "\n",
    "import math\n",
    "def euclidean_distance()->float:\n",
    "    p, q = ( (input_number('Input X1:'), input_number('Input Y1:')), (input_number('Input X2:'), input_number('Input Y2:')) )  \n",
    "    return math.sqrt( (q[0]-p[0])**2 + (q[1]-p[1])**2 )\n",
    "print( f\"b) {euclidean_distance()}\" )\n",
    "#(10, 3), (-1, -9), (10, -10), (4, -2), (9, -10)\n",
    "#10.44\n",
    "# 9.05\n",
    "#14.14\n",
    "# 4.47\n",
    "#13.45\n"
   ]
  },
  {
   "cell_type": "code",
   "execution_count": 22,
   "metadata": {},
   "outputs": [
    {
     "name": "stdout",
     "output_type": "stream",
     "text": [
      "c) 18.251407699364425\n"
     ]
    }
   ],
   "source": [
    "#06.02c\n",
    "def input_number(question:int=\"Input a number:\")->int:\n",
    "    while True: \n",
    "        answer = input(question)\n",
    "        if answer.isnumeric() or len(answer)>1 and answer[0]==\"-\" and answer[1:].isnumeric():\n",
    "            return int(answer)\n",
    "        else:\n",
    "            input(\"Not a number, try again: \")\n",
    "\n",
    "import math\n",
    "\n",
    "def euclidean_combined_distance()->float:\n",
    "    number_of_points = input_number('How many points do you want to calculate:')\n",
    "    points = list()\n",
    "    distance_total = int()\n",
    "    for e in range(number_of_points):\n",
    "        points.append( (input_number(f'Input X{e}:'), input_number(f'Input Y{e}:')) )\n",
    "    \n",
    "    for i in range(1, len(points)):\n",
    "        p = points[i-1]\n",
    "        q = points[i]\n",
    "        distance_total += math.sqrt( (q[0]-p[0])**2 + (q[1]-p[1])**2 )\n",
    "    return distance_total \n",
    "print( f\"c) {euclidean_combined_distance()}\" )\n",
    "#(10, 3), (-1, -9), (10, -10), (4, -2), (9, -10)"
   ]
  },
  {
   "cell_type": "markdown",
   "metadata": {},
   "source": [
    "---\n",
    "## 3. Mathematical functions (*)\n",
    "\n",
    "Make the following functions with **def** or **lambda** and plot their graphs in the same figure window, with $x\\in [-10,10]$ :\n",
    "\n",
    "&nbsp; a) &nbsp;  $f(x) = x^2 -3$ (*)\n",
    "\n",
    "&nbsp; b) &nbsp; $g(x) = 4x-7$ (*)\n",
    "\n",
    "What could the relation between $f(x)$ and $g(x)$ be?\n",
    "\n",
    "<details>\n",
    "\n",
    "<summary>Hint</summary>\n",
    "Use numpy's linspace function:\n",
    "\n",
    "```python\n",
    "import numpy as np\n",
    "x = np.linspace(-10,10)\n",
    "```\n",
    "\n",
    "[Derivative video][derivative_video] (Swedish)\n",
    "\n",
    "[Derivative of polynomials][derivative_polynomial] (Swedish)\n",
    "\n",
    "[derivative_video]: https://www.youtube.com/watch?v=hzXJxOXkU_M\n",
    "[derivative_polynomial]: https://www.youtube.com/watch?v=dFnro1sBn1Y\n",
    "\n",
    "</details>\n",
    "<br>\n",
    "<details>\n",
    "\n",
    "<summary>Answer</summary>\n",
    "\n",
    "<img align=\"left\" src=\"../assets/functions_graph.png\" width=\"200\"/>\n",
    "\n",
    "</details>\n"
   ]
  },
  {
   "cell_type": "code",
   "execution_count": 72,
   "metadata": {},
   "outputs": [
    {
     "name": "stdout",
     "output_type": "stream",
     "text": [
      "-47 33\n"
     ]
    },
    {
     "data": {
      "text/plain": [
       "Text(0, 0.5, 'y')"
      ]
     },
     "execution_count": 72,
     "metadata": {},
     "output_type": "execute_result"
    },
    {
     "data": {
      "image/png": "[encoded data removed]",
      "text/plain": [
       "<Figure size 640x480 with 1 Axes>"
      ]
     },
     "metadata": {},
     "output_type": "display_data"
    }
   ],
   "source": [
    "#06.3\n",
    "\n",
    "a = lambda x: x**2-3\n",
    "b = lambda x: x*4-7\n",
    "print(b(-10),b(10))\n",
    "\n",
    "dx_1 = 0\n",
    "dx_2 = 19\n",
    "dy_1 =-50\n",
    "dy_2 = 30\n",
    "(dy_2 - dy_1) / (dx_2 - dx_1)\n",
    "\n",
    "\n",
    "import matplotlib.pyplot as plt\n",
    "\n",
    "\n",
    "fig = plt.figure()\n",
    "ax = fig.add_subplot(1,1,1)\n",
    "ax.set_facecolor((0.1, 0.1, 0.1))\n",
    "ax.tick_params(axis='x', colors=(0.8, 0.8, 0.8))\n",
    "ax.tick_params(axis='y', colors=(0.8, 0.8, 0.8))\n",
    "ax.yaxis.label.set_color((0.8, 0.8, 0.8))\n",
    "ax.xaxis.label.set_color((0.8, 0.8, 0.8))\n",
    "ax.spines['bottom'].set_color((0.8, 0.8, 0.8))\n",
    "ax.spines['left'].set_color((0.8, 0.8, 0.8))\n",
    "ax.spines['top'].set_color((0.12, 0.12, 0.12))\n",
    "ax.spines['right'].set_color((0.12, 0.12, 0.12))\n",
    "fig.set_facecolor((0.12, 0.12, 0.12))\n",
    "plt.grid(visible=None, which='major', axis='both', color=(0.2, 0.2, 0.2))\n",
    "\n",
    "\n",
    "#plt.plot([a(-10), a(10)])\n",
    "plt.plot( [a(e) for e in range(-10,10)])\n",
    "plt.plot( [b(e) for e in range(-10,10)])\n",
    "plt.xlabel(\"x\")\n",
    "plt.ylabel(\"y\")"
   ]
  },
  {
   "cell_type": "markdown",
   "metadata": {},
   "source": [
    "---\n",
    "## 4. Name cleaner (*)\n",
    "\n",
    "Create a function that takes a name as an input and:\n",
    "\n",
    "- removes all leading and trailing blank spaces\n",
    "- make capitalize the first character of each name, and make the rest lowercase\n",
    "\n",
    "Use your function on this list of strings: \n",
    "\n",
    "```\n",
    "[\"  MaRcUs \", \" iDA aNderSon\", \"OLOF Olofsson            \"  ]\n",
    "```\n",
    "\n",
    "\n",
    "<details>\n",
    "\n",
    "<summary>Hint</summary>\n",
    "Use \n",
    "\n",
    "- [title() method][str_title]\n",
    "- [strip() method][str_strip]\n",
    "- [join() method][str_join]\n",
    "- [split() method][str_split]\n",
    "\n",
    "[str_title]: https://www.w3schools.com/python/ref_string_title.asp\n",
    "[str_strip]: https://www.w3schools.com/python/ref_string_strip.asp\n",
    "[str_join]: https://www.w3schools.com/python/ref_string_join.asp\n",
    "[str_split]: https://www.w3schools.com/python/ref_string_split.asp \n",
    "\n",
    "</details>\n",
    "<br>\n",
    "<details>\n",
    "\n",
    "<summary>Answer</summary>\n",
    "\n",
    "```\n",
    "Marcus\n",
    "Ida Anderson\n",
    "Olof Olofsson\n",
    "```\n",
    "\n",
    "</details>\n"
   ]
  },
  {
   "cell_type": "code",
   "execution_count": 73,
   "metadata": {},
   "outputs": [
    {
     "name": "stdout",
     "output_type": "stream",
     "text": [
      "['Marcus', 'Ida Anderson', 'Olof Olofsson']\n"
     ]
    }
   ],
   "source": [
    "#06.4\n",
    "\n",
    "def name_cleaner(liz):\n",
    "    return  [ e.strip().lower().title() for e in liz ] \n",
    "\n",
    "print( name_cleaner([\"  MaRcUs \", \" iDA aNderSon\", \"OLOF Olofsson            \"  ]) )"
   ]
  },
  {
   "cell_type": "markdown",
   "metadata": {},
   "source": [
    "---\n",
    "## 5. Change (**)\n",
    "\n",
    "Create a function that takes a value as input parameter and print out the banknotes and coins in Swedish currency representing this value. For example 5289 would give the following printout: \n",
    "\n",
    "- 5st 1000-lapp\n",
    "- 1st 200-lapp\n",
    "- 1st 50-lapp\n",
    "- 1st 20-lapp\n",
    "- 1st 10-krona\n",
    "- 1st 5-krona\n",
    "- 2st 2-krona\n",
    "\n",
    "Now let the user input a value, and use the function to calculate the change."
   ]
  },
  {
   "cell_type": "code",
   "execution_count": 77,
   "metadata": {},
   "outputs": [
    {
     "name": "stdout",
     "output_type": "stream",
     "text": [
      "o 5st 1000-lapp\n",
      "o 2st 100-lapp\n",
      "o 1st 50-lapp\n",
      "o 1st 20-lapp\n",
      "o 1st 10-krona\n",
      "o 1st 5-krona\n",
      "o 2st 2-krona\n",
      "\n"
     ]
    }
   ],
   "source": [
    "#06.05\n",
    "import math \n",
    "\n",
    "def change(coins):\n",
    "    value = {1000:0, 100:0, 50:0, 20:0, 10:0, 5:0, 2:0, 1:0}\n",
    "    txt = str()\n",
    "    for key in value.keys():\n",
    "        if coins >= key:\n",
    "            value[key] = math.floor(coins/key)\n",
    "            coins -= key*value[key]\n",
    "            txt += f\"o {value[key]}st {key}-lapp\\n\" if key > 10 else f\"o {value[key]}st {key}-krona\\n\"\n",
    "        \n",
    "    print(txt)\n",
    "\n",
    "change(5289)"
   ]
  },
  {
   "cell_type": "markdown",
   "metadata": {},
   "source": [
    "---\n",
    "\n",
    "pr0fez Giang\n",
    "\n",
    "[LinkedIn][linkedIn_pr0fez]\n",
    "\n",
    "[GitHub portfolio][github_portfolio]\n",
    "\n",
    "[linkedIn_pr0fez]: https://www.linkedin.com/in/pr0fezgiang/\n",
    "[github_portfolio]: https://github.com/pr0fez/Portfolio-pr0fez-Giang\n",
    "\n",
    "---"
   ]
  }
 ],
 "metadata": {
  "kernelspec": {
   "display_name": "Python 3.9.6 64-bit",
   "language": "python",
   "name": "python3"
  },
  "language_info": {
   "codemirror_mode": {
    "name": "ipython",
    "version": 3
   },
   "file_extension": ".py",
   "mimetype": "text/x-python",
   "name": "python",
   "nbconvert_exporter": "python",
   "pygments_lexer": "ipython3",
   "version": "3.12.5"
  },
  "orig_nbformat": 4,
  "vscode": {
   "interpreter": {
    "hash": "0da836a34428266995a795f1e1e27b816fa1c02f148d9728b3fbbbc5459afca6"
   }
  }
 },
 "nbformat": 4,
 "nbformat_minor": 2
}
