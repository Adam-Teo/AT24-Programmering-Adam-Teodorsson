{
 "cells": [
  {
   "cell_type": "markdown",
   "metadata": {},
   "source": [
    "\n",
    "**1)** Utgå från strängen (skapa en variabel med) “Hello World!”, skriv ut hela strängen bokstav för bokstav (i en loop), men avsluta när det kommer ett space. (Den ska alltså bara skriva “Hello”)."
   ]
  },
  {
   "cell_type": "code",
   "execution_count": 3,
   "metadata": {},
   "outputs": [
    {
     "name": "stdout",
     "output_type": "stream",
     "text": [
      "Hello"
     ]
    }
   ],
   "source": [
    "txt = \"Hello World\" \n",
    "for cha in txt:\n",
    "    if cha in \" \": break\n",
    "    print(cha, end=\"\")\n"
   ]
  },
  {
   "cell_type": "markdown",
   "metadata": {},
   "source": [
    "**2)** Utgå från strängen “This is just some other text”. Skriv ut strängen bokstav för bokstav, men när det kommer ett space, gör radbyte istället. (Du ska få ett ord på varje rad)."
   ]
  },
  {
   "cell_type": "code",
   "execution_count": 6,
   "metadata": {},
   "outputs": [
    {
     "name": "stdout",
     "output_type": "stream",
     "text": [
      "This\n",
      "is\n",
      "just\n",
      "some\n",
      "other\n",
      "text\n"
     ]
    }
   ],
   "source": [
    "print( *[cha if cha not in \" \" else \"\\n\" for cha in \"This is just some other text\"], sep=\"\") "
   ]
  },
  {
   "cell_type": "markdown",
   "metadata": {},
   "source": [
    "**3)** Utgå från strängen “Detta är uppgift 3”. Skriv ut bokstav för bokstav. Men om index är en jämn siffra, skriv istället ut *"
   ]
  },
  {
   "cell_type": "code",
   "execution_count": 7,
   "metadata": {},
   "outputs": [
    {
     "name": "stdout",
     "output_type": "stream",
     "text": [
      "D*t*a*ä* *p*g*f* *\n"
     ]
    }
   ],
   "source": [
    "print( *[cha if idx%2 == 0 else \"*\" for idx, cha in enumerate(\"Detta är uppgift 3\")], sep=\"\") "
   ]
  },
  {
   "cell_type": "markdown",
   "metadata": {},
   "source": [
    "**4)** Utgå från strängen “Hello world!”. Skriv ut bokstav för bokstav. Alla “o” ska vara grön färg, alla “l” ska vara röd färg. Övriga bokstäver är vita/grå."
   ]
  },
  {
   "cell_type": "code",
   "execution_count": 9,
   "metadata": {},
   "outputs": [
    {
     "name": "stdout",
     "output_type": "stream",
     "text": [
      "He..- w-r.d!\n"
     ]
    }
   ],
   "source": [
    "txt = \"Hello world!\".replace(\"o\", \"-\").replace(\"l\", \".\")\n",
    "print(txt)"
   ]
  },
  {
   "cell_type": "markdown",
   "metadata": {},
   "source": [
    "**5)** Utgå från strängen “Hello world”. Skriv ut bokstav för bokstav. Om två tecken på rad är samma så ska dessa vara grön färg. Övriga bokstäver är vita/grå."
   ]
  },
  {
   "cell_type": "code",
   "execution_count": 26,
   "metadata": {},
   "outputs": [
    {
     "name": "stdout",
     "output_type": "stream",
     "text": [
      "He--- w-r-d\n"
     ]
    }
   ],
   "source": [
    "txt = \"Hello world\"\n",
    "print( *[\"-\" if cha in txt[idx+1:] or cha in txt[:idx] else cha for idx, cha in enumerate(txt)], sep=\"\") "
   ]
  },
  {
   "cell_type": "markdown",
   "metadata": {},
   "source": [
    "**6)** Utgå från strängen “How much wood would a woodchuck chuck if a woodchuck could chuck wood?”, samt den mindre strängen “oo”. Skriv ut den långa strängen bokstav för bokstav. Varje gång den mindre strängen förekommer (två “o” på raken) så ska dessa vara med grön färg. Övriga bokstäver är vita/grå.\n"
   ]
  },
  {
   "cell_type": "code",
   "execution_count": 27,
   "metadata": {},
   "outputs": [
    {
     "name": "stdout",
     "output_type": "stream",
     "text": [
      "How much w--d would a w--dchuck chuck if a w--dchuck could chuck w--d?\n"
     ]
    }
   ],
   "source": [
    "txt = \"How much wood would a woodchuck chuck if a woodchuck could chuck wood?\"\n",
    "print( *[\"-\" if cha == \"o\" and txt[idx+1] == \"o\" or cha == \"o\" and txt[idx+-1] == \"o\" else cha for idx, cha in enumerate(txt)], sep=\"\")"
   ]
  },
  {
   "cell_type": "markdown",
   "metadata": {},
   "source": [
    "**7)** Samma som uppgift 6, men den mindre strängen är “chuck” istället för “oo”. D.v.s. alla gånger “chuck” förekommer i den längre strängen skrivs dessa med grön text."
   ]
  },
  {
   "cell_type": "code",
   "execution_count": 34,
   "metadata": {},
   "outputs": [
    {
     "name": "stdout",
     "output_type": "stream",
     "text": [
      "How much wood would a wood----- ----- if a wood----- could ----- wood?"
     ]
    }
   ],
   "source": [
    "txt = \"How much wood would a woodchuck chuck if a woodchuck could chuck wood?\"\n",
    "sub = \"chuck\"\n",
    "counter = int()\n",
    "for idx, cha in enumerate(txt):\n",
    "    if counter > 0:\n",
    "        print(\"-\", end=\"\") \n",
    "        counter-=1    \n",
    "    elif idx+len(sub)-1 <= len(txt) and txt[idx : idx+len(sub)] == sub:\n",
    "        counter = len(sub)-1\n",
    "        print(\"-\", end=\"\") \n",
    "    else:\n",
    "        print(cha, end=\"\")"
   ]
  },
  {
   "cell_type": "markdown",
   "metadata": {},
   "source": [
    "**8)** Samma som uppgift 6 igen, men denna gången kan användaren mata in den kortare strängen, alltså valfri text som ska sökas (färgas grön) i den längre texten."
   ]
  },
  {
   "cell_type": "code",
   "execution_count": 43,
   "metadata": {},
   "outputs": [
    {
     "name": "stdout",
     "output_type": "stream",
     "text": [
      "How much ---- would a ----chuck chuck if a ----chuck could chuck ----?"
     ]
    }
   ],
   "source": [
    "txt = \"How much wood would a woodchuck chuck if a woodchuck could chuck wood?\"\n",
    "sub = input(\"Input a substring: \")\n",
    "counter = int()\n",
    "for idx, cha in enumerate(txt):\n",
    "    if counter > 0:\n",
    "        print(\"-\", end=\"\") \n",
    "        counter-=1    \n",
    "    elif idx+len(sub)-1 <= len(txt) and txt[idx : idx+len(sub)] == sub:\n",
    "        counter = len(sub)-1\n",
    "        print(\"-\", end=\"\") \n",
    "    else:\n",
    "        print(cha, end=\"\")"
   ]
  },
  {
   "cell_type": "markdown",
   "metadata": {},
   "source": [
    "**9)** Utgå från strängen “Hello world!”. Gör ett program som skriver ut första bokstaven en gång på första raden. Andra bokstaven 2 gånger på andra raden. Tredje, 3 gånger på nästa rad osv. Alltså:\\\n",
    "H\\\n",
    "ee\\\n",
    "lll\\\n",
    "o.s.v...."
   ]
  },
  {
   "cell_type": "code",
   "execution_count": 47,
   "metadata": {},
   "outputs": [
    {
     "name": "stdout",
     "output_type": "stream",
     "text": [
      "\n",
      "H\n",
      "ee\n",
      "lll\n",
      "llll\n",
      "ooooo\n",
      "      \n",
      "wwwwwww\n",
      "oooooooo\n",
      "rrrrrrrrr\n",
      "llllllllll\n",
      "ddddddddddd\n",
      "!!!!!!!!!!!!\n"
     ]
    }
   ],
   "source": [
    "txt=\"Hello world!\"\n",
    "print(*(txt[n-1]*n for n in range(len(txt)+1)), sep=\"\\n\")"
   ]
  },
  {
   "cell_type": "markdown",
   "metadata": {},
   "source": [
    "**9)** Utgå från strängen “How much wood would a woodchuck chuck if a woodchuck could chuck wood?”. Gör ett program som skriver ut första ordet en gång på första raden; andra ordet två gånger på nästa rad. Tredje ordet tre gånger på nästa. etc. alltså:\\\n",
    "How\\\n",
    "much much\\\n",
    "wood wood wood\\\n",
    "o.s.v."
   ]
  },
  {
   "cell_type": "code",
   "execution_count": 48,
   "metadata": {},
   "outputs": [
    {
     "name": "stdout",
     "output_type": "stream",
     "text": [
      "How\n",
      "muchmuch\n",
      "woodwoodwood\n",
      "wouldwouldwouldwould\n",
      "aaaaa\n",
      "woodchuckwoodchuckwoodchuckwoodchuckwoodchuckwoodchuck\n",
      "chuckchuckchuckchuckchuckchuckchuck\n",
      "ifififififififif\n",
      "aaaaaaaaa\n",
      "woodchuckwoodchuckwoodchuckwoodchuckwoodchuckwoodchuckwoodchuckwoodchuckwoodchuckwoodchuck\n",
      "couldcouldcouldcouldcouldcouldcouldcouldcouldcouldcould\n",
      "chuckchuckchuckchuckchuckchuckchuckchuckchuckchuckchuckchuck\n",
      "wood?wood?wood?wood?wood?wood?wood?wood?wood?wood?wood?wood?wood?\n"
     ]
    }
   ],
   "source": [
    "txt = \"How much wood would a woodchuck chuck if a woodchuck could chuck wood?\"\n",
    "print(*(s*(n+1) for n, s in enumerate(txt.split(\" \"))), sep=\"\\n\")"
   ]
  },
  {
   "cell_type": "markdown",
   "metadata": {},
   "source": [
    "**11)** Utgå från strängen “How much wood would a woodchuck chuck if a woodchuck could chuck wood?”. Gör ett program som på första raden skriver ut första ordet. På nästa rad skriver ut de två första orden, sedan de tre första orden på nästa rad o.s.v till man kommit till raden som skriver ut hela meningen. Alltså:\\\n",
    "How\\\n",
    "How much\\\n",
    "How much wood\\\n",
    "o.s.v."
   ]
  },
  {
   "cell_type": "code",
   "execution_count": 52,
   "metadata": {},
   "outputs": [
    {
     "name": "stdout",
     "output_type": "stream",
     "text": [
      "How\n",
      "How much\n",
      "How much wood\n",
      "How much wood would\n",
      "How much wood would a\n",
      "How much wood would a woodchuck\n",
      "How much wood would a woodchuck chuck\n",
      "How much wood would a woodchuck chuck if\n",
      "How much wood would a woodchuck chuck if a\n",
      "How much wood would a woodchuck chuck if a woodchuck\n",
      "How much wood would a woodchuck chuck if a woodchuck could\n",
      "How much wood would a woodchuck chuck if a woodchuck could chuck\n",
      "How much wood would a woodchuck chuck if a woodchuck could chuck wood?\n"
     ]
    }
   ],
   "source": [
    "txt = \"How much wood would a woodchuck chuck if a woodchuck could chuck wood?\".split(\" \")\n",
    "print(*(\" \".join(txt[:n+1]) for n in range(len(txt))), sep=\"\\n\")"
   ]
  },
  {
   "cell_type": "markdown",
   "metadata": {},
   "source": [
    "**12)** Utgå från samma sträng igen, men denna gång ska programmet skriva ut hela strängen på varje rad. På första raden ska första ordet vara grön (övriga vita), på andra raden ska andra ordet vara grönt. På tredje raden ska tredje vara grön osv. Alltså:\\\n",
    "How much wood would a woodchuck chuck if a woodchuck could chuck wood?\\\n",
    "How much wood would a woodchuck chuck if a woodchuck could chuck wood?\\\n",
    "How much wood would a woodchuck chuck if a woodchuck could chuck wood?\\\n",
    "o.s.v."
   ]
  },
  {
   "cell_type": "code",
   "execution_count": 53,
   "metadata": {},
   "outputs": [
    {
     "name": "stdout",
     "output_type": "stream",
     "text": [
      "--- much wood would a woodchuck chuck if a woodchuck could chuck wood?\n",
      "How ---- wood would a woodchuck chuck if a woodchuck could chuck wood?\n",
      "How much ---- would a woodchuck chuck if a woodchuck could chuck wood?\n",
      "How much wood ----- a woodchuck chuck if a woodchuck could chuck wood?\n",
      "How much wood would - woodchuck chuck if a woodchuck could chuck wood?\n",
      "How much wood would a --------- chuck if a woodchuck could chuck wood?\n",
      "How much wood would a woodchuck ----- if a woodchuck could chuck wood?\n",
      "How much wood would a woodchuck chuck -- a woodchuck could chuck wood?\n",
      "How much wood would a woodchuck chuck if - woodchuck could chuck wood?\n",
      "How much wood would a woodchuck chuck if a --------- could chuck wood?\n",
      "How much wood would a woodchuck chuck if a woodchuck ----- chuck wood?\n",
      "How much wood would a woodchuck chuck if a woodchuck could ----- wood?\n",
      "How much wood would a woodchuck chuck if a woodchuck could chuck -----\n"
     ]
    }
   ],
   "source": [
    "txt = \"How much wood would a woodchuck chuck if a woodchuck could chuck wood?\".split(\" \")\n",
    "for n in range(len(txt)):\n",
    "    out = txt[:]\n",
    "    out[n]=\"-\"*len(out[n])\n",
    "    print(\" \".join(out))\n"
   ]
  },
  {
   "cell_type": "markdown",
   "metadata": {},
   "source": [
    "**13)** Utgå från strängen “abcdefghijklmnopqrstuvwxyz”. Hela strängen skrivs ut på varje rad. På första raden är de 5 första tecknen gröna. På nästa rad är “bcdef” grön, sedan “cedfg” osv.. alltså alltid 5 tecken, men de flyttas ett steg åt höger för varje rad, tills sista raden har “vwxyz” grönfärgad. Alltså:\\\n",
    "abcdefghijklmnopqrstuvwxyz\\\n",
    "abcdefghijklmnopqrstuvwxyz\\\n",
    "abcdefghijklmnopqrstuvwxyz\\\n",
    "o.s.v."
   ]
  },
  {
   "cell_type": "code",
   "execution_count": 61,
   "metadata": {},
   "outputs": [
    {
     "name": "stdout",
     "output_type": "stream",
     "text": [
      "*****ghijklmnopqrstuvwxyz\n",
      "a*****hijklmnopqrstuvwxyz\n",
      "ab*****ijklmnopqrstuvwxyz\n",
      "abc*****jklmnopqrstuvwxyz\n",
      "abcd*****klmnopqrstuvwxyz\n",
      "abcde*****lmnopqrstuvwxyz\n",
      "abcdef*****mnopqrstuvwxyz\n",
      "abcdefg*****nopqrstuvwxyz\n",
      "abcdefgh*****opqrstuvwxyz\n",
      "abcdefghi*****pqrstuvwxyz\n",
      "abcdefghij*****qrstuvwxyz\n",
      "abcdefghijk*****rstuvwxyz\n",
      "abcdefghijkl*****stuvwxyz\n",
      "abcdefghijklm*****tuvwxyz\n",
      "abcdefghijklmn*****uvwxyz\n",
      "abcdefghijklmno*****vwxyz\n",
      "abcdefghijklmnop*****wxyz\n",
      "abcdefghijklmnopq*****xyz\n",
      "abcdefghijklmnopqr*****yz\n",
      "abcdefghijklmnopqrs*****z\n",
      "abcdefghijklmnopqrst*****\n"
     ]
    }
   ],
   "source": [
    "from string import ascii_lowercase as abc\n",
    "abc\n",
    "for n in range(len(abc)-5):\n",
    "    print(abc[:n],\"*\"*5,abc[n+6:], sep=\"\")\n"
   ]
  },
  {
   "cell_type": "markdown",
   "metadata": {},
   "source": [
    "**14)** Användaren matar in valfri sträng. Programmet skriver ut hela strängen bokstav för bokstav. Alla bokstäverna är gröna fram tills du stöter på ett tecken som är samma som första tecknet i strängen. Därefter skriver den ut resten av bokstäver med vit/grå färg. Några exempel på inmatningar:\\\n",
    "ajdfhvajhdfd\\\n",
    "hhfgijff\\\n",
    "fjpdpog"
   ]
  },
  {
   "cell_type": "code",
   "execution_count": 63,
   "metadata": {},
   "outputs": [
    {
     "name": "stdout",
     "output_type": "stream",
     "text": [
      "abcdABCDE"
     ]
    }
   ],
   "source": [
    "txt = input(\"Input lowercase string: \")\n",
    "switch = False \n",
    "for n, cha in enumerate(txt):\n",
    "    if cha in txt[:n] :\n",
    "        switch = True \n",
    "    print(  cha.upper() if switch else cha, end=\"\")"
   ]
  },
  {
   "cell_type": "markdown",
   "metadata": {},
   "source": [
    "**15)** Användaren matar in valfri sträng. Programmet skriver sedan ut en hela strängen flera gånger. På första raden börjar den skriva med grön färg på första bokstaven och fram tills den hittar samma bokstav igen. På andra raden börjar den skriva med grön färg på andra bokstaven och fram tills den hittar samma bokstav igen. På tredje raden börjar den skriva med grön text på tredje bokstaven och fram tills den hittar samma igen. Om man t.ex matar in “ajdfhvajhdfd” blir det då:\\\n",
    "ajdfhvajhdfd\\\n",
    "ajdfhvajhdfd\\\n",
    "ajdfhvajhdfd\\\n",
    "ajdfhvajhdfd\\\n",
    "o.s.v"
   ]
  },
  {
   "cell_type": "code",
   "execution_count": 12,
   "metadata": {},
   "outputs": [
    {
     "name": "stdout",
     "output_type": "stream",
     "text": [
      "ABCabcabc\n",
      "aBCAbcabc\n",
      "abCABcabc\n",
      "abcABCabc\n",
      "abcaBCAbc\n",
      "abcabCABc\n",
      "abcabcABC\n",
      "abcabcaBC\n",
      "abcabcabC\n"
     ]
    }
   ],
   "source": [
    "txt = input(\"Input lowercase string: \")\n",
    "switch = False\n",
    "for m in range(len(txt)):\n",
    "    for n, cha in enumerate(txt):\n",
    "        if n == m:\n",
    "            switch = True \n",
    "        elif switch and cha == txt[m]:\n",
    "            switch = False   \n",
    "        print(  cha.upper() if switch else cha, end=\"\")\n",
    "    print()\n",
    "    switch = False"
   ]
  }
 ],
 "metadata": {
  "kernelspec": {
   "display_name": ".venv",
   "language": "python",
   "name": "python3"
  },
  "language_info": {
   "codemirror_mode": {
    "name": "ipython",
    "version": 3
   },
   "file_extension": ".py",
   "mimetype": "text/x-python",
   "name": "python",
   "nbconvert_exporter": "python",
   "pygments_lexer": "ipython3",
   "version": "3.12.5"
  }
 },
 "nbformat": 4,
 "nbformat_minor": 2
}
