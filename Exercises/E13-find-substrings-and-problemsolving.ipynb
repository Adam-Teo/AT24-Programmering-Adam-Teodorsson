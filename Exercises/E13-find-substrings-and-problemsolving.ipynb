{
 "cells": [
  {
   "cell_type": "markdown",
   "metadata": {},
   "source": [
    "<span style=\"color:#276dab; font-size:25px\">RECIPE</span>\n",
    "1. Setup a while loop\n",
    "2. While True loop through the cha in the txt\n",
    "3. If the cha is a num then check if it's in the memory str\\\n",
    "    T: Print a string, where the range of character are colorized\\\n",
    "    F: Add the char to the string and continure\n",
    "4. If the cha is not a cha then clear memory string, set a checkpoint and continure\n",
    "5. When you rach the last char break the while loop and end the program"
   ]
  },
  {
   "cell_type": "code",
   "execution_count": 31,
   "metadata": {},
   "outputs": [
    {
     "name": "stdout",
     "output_type": "stream",
     "text": [
      "29[535]35123p48723487597645723645\n",
      "[2953512]123p48723487597645723645\n",
      "295[35123]23p48723487597645723645\n",
      "29535123[p487234]3487597645723645\n",
      "29535123p[4872348]487597645723645\n",
      "29535123p4[8723487]87597645723645\n",
      "29535123p487234[87597]97645723645\n",
      "29535123p4872[348759764]645723645\n",
      "29535123p4872348[7597645]45723645\n",
      "29535123p487234875[976457]5723645\n",
      "29535123p48[72348759764572]723645\n",
      "29535123p487[23487597645723]23645\n",
      "29535123p4872348759[76457236]3645\n",
      "29535123p48723487597[64572364]645\n",
      "29535123p487234875976[45723645]45\n"
     ]
    }
   ],
   "source": [
    "\n",
    "string = \"29535123p48723487597645723645\"\n",
    "mem = str()\n",
    "\n",
    "for idx, cha in enumerate(string):\n",
    "    if cha.isnumeric():\n",
    "        if cha in mem:\n",
    "            pdx = mem.find(cha)\n",
    "            print(string[:pdx],\"[\",string[pdx:idx+1],\"]\",string[idx-1:], sep=\"\")\n",
    "            mem_li = [cha for cha in mem]\n",
    "            mem_li[pdx] = \"-\"\n",
    "            mem=\"\".join(mem_li)\n",
    "            mem+=cha \n",
    "        else:\n",
    "            mem+=cha\n",
    "    else:\n",
    "        mem = \"-\"*len(mem)\n",
    "\n"
   ]
  }
 ],
 "metadata": {
  "kernelspec": {
   "display_name": ".venv",
   "language": "python",
   "name": "python3"
  },
  "language_info": {
   "codemirror_mode": {
    "name": "ipython",
    "version": 3
   },
   "file_extension": ".py",
   "mimetype": "text/x-python",
   "name": "python",
   "nbconvert_exporter": "python",
   "pygments_lexer": "ipython3",
   "version": "3.12.5"
  }
 },
 "nbformat": 4,
 "nbformat_minor": 2
}
