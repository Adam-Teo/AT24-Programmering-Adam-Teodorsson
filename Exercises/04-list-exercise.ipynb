{
 "cells": [
  {
   "cell_type": "markdown",
   "metadata": {},
   "source": [
    "<a href=\"https://colab.research.google.com/github/pr0fez/AI24-Programmering/blob/master/Exercises/04-list-exercise.ipynb\" target=\"_parent\"><img align=\"left\" src=\"https://colab.research.google.com/assets/colab-badge.svg\" alt=\"Open In Colab\"/></a> &nbsp; to see hints and answers."
   ]
  },
  {
   "cell_type": "markdown",
   "metadata": {},
   "source": [
    "# list exercises\n",
    "\n",
    "---\n",
    "These are introductory exercises in Python with focus in **lists**.\n",
    "\n",
    "<p class = \"alert alert-info\" role=\"alert\"><b>Remember</b> to use <b>descriptive variable names</b> in order to get readable code </p>\n",
    "\n",
    "<p class = \"alert alert-info\" role=\"alert\"><b>Remember</b> to format your answers in a neat way using <b>f-strings</b>\n",
    "\n",
    "<p class = \"alert alert-info\" role=\"alert\"><b>Remember</b> to format your input questions in a pedagogical way to guide the user\n",
    "\n",
    "The number of stars (\\*), (\\*\\*), (\\*\\*\\*) denotes the difficulty level of the task\n",
    "\n",
    "---"
   ]
  },
  {
   "cell_type": "markdown",
   "metadata": {},
   "source": [
    "## 1. Dice rolls (*)\n",
    "\n",
    "Simulate 10 dice rolls and **append** the rolls to a list or use **list comprehension**.\n",
    "\n",
    "&nbsp; a) &nbsp; sort the list in **ascending** order (*)\n",
    "\n",
    "&nbsp; b) &nbsp; sort the list in **descending** order (*)\n",
    "\n",
    "&nbsp; c) &nbsp; find the **maximum** and **minimum** value in the list (*)\n",
    "\n",
    "\n",
    "<details>\n",
    "\n",
    "<summary>Answer </summary>\n",
    "\n",
    "a)\n",
    "```\n",
    "Ascending order: [1, 1, 2, 3, 4, 4, 4, 5, 6, 6]\n",
    "```\n",
    "\n",
    "b) \n",
    "```\n",
    "Descending order: [6, 6, 5, 4, 4, 4, 3, 2, 1, 1]\n",
    "```\n",
    "\n",
    "c) \n",
    "```\n",
    "Maximum: 6\n",
    "Minimum: 1\n",
    "```\n",
    "\n",
    "</details>\n",
    "\n",
    "\n"
   ]
  },
  {
   "cell_type": "code",
   "execution_count": 48,
   "metadata": {},
   "outputs": [
    {
     "name": "stdout",
     "output_type": "stream",
     "text": [
      "a) [4, 4, 4, 9, 11, 12, 13, 15, 17, 18]\n",
      "b) [18, 17, 15, 13, 12, 11, 9, 4, 4, 4]\n",
      "c) min:4 max:18\n"
     ]
    }
   ],
   "source": [
    "#04.01a\n",
    "import random\n",
    "from random import randint as rng\n",
    "#random.seed(3)\n",
    "liz = [rng(1,6) for _ in range(10)]\n",
    "liz.sort()\n",
    "print(f\"a) {liz}\")\n",
    "\n",
    "\n",
    "#04.01b\n",
    "liz.sort(reverse=True)\n",
    "print(f\"b) {liz}\")\n",
    "\n",
    "#04.01c\n",
    "print(f\"c) min:{min(liz)} max:{max(liz)}\")\n",
    "\n"
   ]
  },
  {
   "cell_type": "markdown",
   "metadata": {},
   "source": [
    "--- \n",
    "## 2. Food menu (*)\n",
    "\n",
    "Create a:  \n",
    "\n",
    "&nbsp; a) &nbsp; **list** with the following elements: \"vegetarisk lasagne\", \"spaghetti\", \"fisk\", \"grönsakssoppa\", \"pannkakor\". (*)\n",
    "\n",
    "&nbsp; b) &nbsp; **list** with the weekdays (*)\n",
    "\n",
    "&nbsp; c) &nbsp; create a food menu with each day corresponding to each food item and print it out. (*)\n",
    "\n",
    "<details>\n",
    "\n",
    "<summary>Answer</summary>\n",
    "\n",
    "c) \n",
    "```\n",
    "Bambameny\n",
    "Mån: vegetarisk lasagne\n",
    "Tis: spaghetti\n",
    "Ons: fisk\n",
    "Tor: grönsakssoppa\n",
    "Fre: pannkakor\n",
    "```\n",
    "\n",
    "</details>"
   ]
  },
  {
   "cell_type": "code",
   "execution_count": 55,
   "metadata": {},
   "outputs": [
    {
     "name": "stdout",
     "output_type": "stream",
     "text": [
      "a) ['vegetarisk lasagne', 'spaghetti', 'fisk', 'grönsakssoppa', 'pannkakor']\n",
      "b) ['mon', 'tue', 'wed', 'thu', 'fri', 'sat', 'sun']\n",
      "{'mon': 'vegetarisk lasagne', 'tue': 'spaghetti', 'wed': 'fisk', 'thu': 'grönsakssoppa', 'fri': 'pannkakor'}\n"
     ]
    }
   ],
   "source": [
    "#04.02\n",
    "dishes = [\"vegetarisk lasagne\", \"spaghetti\", \"fisk\", \"grönsakssoppa\", \"pannkakor\"]\n",
    "print(f\"a) {dishes}\")\n",
    "weekdays = [\"mon\", \"tue\", \"wed\", \"thu\", \"fri\", \"sat\", \"sun\"]\n",
    "print(f\"b) {weekdays}\")\n",
    "menu = dict()\n",
    "for key, val in zip(weekdays, dishes):\n",
    "    menu[key] = val \n",
    "\n",
    "print(menu)"
   ]
  },
  {
   "cell_type": "markdown",
   "metadata": {},
   "source": [
    "--- \n",
    "## 3. Squares (*)\n",
    "\n",
    "&nbsp; a) &nbsp; Use **list comprehension** to create a list of squares from -10 to 10 (*)\n",
    "\n",
    "&nbsp; a) &nbsp; Plot this list using **matplotlib**. (*)\n",
    "\n",
    "<details>\n",
    "\n",
    "<summary>Answer</summary>\n",
    "\n",
    "a)\n",
    "```\n",
    "[100, 81, 64, 49, 36, 25, 16, 9, 4, 1, 0, 1, 4, 9, 16, 25, 36, 49, 64, 81, 100]\n",
    "```\n",
    "\n",
    "b) \n",
    "\n",
    "<img align=\"left\" src=\"../assets/x^2_graph.png\" width=\"300\"/>\n",
    "</details>"
   ]
  },
  {
   "cell_type": "code",
   "execution_count": 71,
   "metadata": {},
   "outputs": [
    {
     "data": {
      "text/plain": [
       "Text(0, 0.5, 'y')"
      ]
     },
     "execution_count": 71,
     "metadata": {},
     "output_type": "execute_result"
    },
    {
     "data": {
      "image/png": "[encoded data removed]",
      "text/plain": [
       "<Figure size 640x480 with 1 Axes>"
      ]
     },
     "metadata": {},
     "output_type": "display_data"
    }
   ],
   "source": [
    "#04.03\n",
    "import matplotlib.pyplot as plt \n",
    "\n",
    "#squares = [ (x, y) for x in range(-10, 11) for y in range(-10, 11) ]\n",
    "#print(f\"squares {squares}\")\n",
    "squares = [ y**2 for y in range(-10, 11) ]\n",
    "\n",
    "\n",
    "plt.plot( squares )\n",
    "plt.title(\"Plot Squares\")\n",
    "plt.xlabel(\"x\")\n",
    "plt.ylabel(\"y\")\n"
   ]
  },
  {
   "cell_type": "markdown",
   "metadata": {},
   "source": [
    "---\n",
    "## 4. Chessboard (**)\n",
    "\n",
    "&nbsp; a) &nbsp; Create this list using **list comprehension**: (*)\n",
    "\n",
    "```python\n",
    "['A1', 'B1', 'C1', 'D1', 'E1', 'F1', 'G1', 'H1']\n",
    "```\n",
    "\n",
    "&nbsp; b) &nbsp; Create a 2D list to hold the coordinates in a chessboard. (**)\n",
    "\n",
    "<details>\n",
    "\n",
    "<summary>Hint</summary>\n",
    "\n",
    "b) Use **f-string** and create a list of characters with: \n",
    "\n",
    "```python\n",
    "list(\"ABCDEFGH)\n",
    "```\n",
    "\n",
    "b) One option is to use nested list comprehension where one for-loop creates the first list and the other creates several of the first list\n",
    "\n",
    "</details>\n",
    "\n",
    "\n",
    "<details>\n",
    "\n",
    "<summary>Answer</summary>\n",
    "\n",
    "b)\n",
    "```\n",
    "[['A1', 'B1', 'C1', 'D1', 'E1', 'F1', 'G1', 'H1'],\n",
    " ['A2', 'B2', 'C2', 'D2', 'E2', 'F2', 'G2', 'H2'],\n",
    " ['A3', 'B3', 'C3', 'D3', 'E3', 'F3', 'G3', 'H3'],\n",
    " ['A4', 'B4', 'C4', 'D4', 'E4', 'F4', 'G4', 'H4'],\n",
    " ['A5', 'B5', 'C5', 'D5', 'E5', 'F5', 'G5', 'H5'],\n",
    " ['A6', 'B6', 'C6', 'D6', 'E6', 'F6', 'G6', 'H6'],\n",
    " ['A7', 'B7', 'C7', 'D7', 'E7', 'F7', 'G7', 'H7'],\n",
    " ['A8', 'B8', 'C8', 'D8', 'E8', 'F8', 'G8', 'H8']]\n",
    "```\n",
    "\n",
    "</details>"
   ]
  },
  {
   "cell_type": "code",
   "execution_count": 79,
   "metadata": {},
   "outputs": [
    {
     "name": "stdout",
     "output_type": "stream",
     "text": [
      "a) ['A1', 'B1', 'C1', 'D1', 'E1', 'F1', 'G1', 'H1']\n",
      "\n",
      "A1 B1 C1 D1 E1 F1 G1 H1 \n",
      "A2 B2 C2 D2 E2 F2 G2 H2 \n",
      "A3 B3 C3 D3 E3 F3 G3 H3 \n",
      "A4 B4 C4 D4 E4 F4 G4 H4 \n",
      "A5 B5 C5 D5 E5 F5 G5 H5 \n",
      "A6 B6 C6 D6 E6 F6 G6 H6 \n",
      "A7 B7 C7 D7 E7 F7 G7 H7 \n",
      "A8 B8 C8 D8 E8 F8 G8 H8 "
     ]
    }
   ],
   "source": [
    "#04.04\n",
    "import string\n",
    "row = [f\"{e}1\" for e in string.ascii_uppercase[0:8]] \n",
    "print(f\"a) {row}\")\n",
    "board = [f\"{e}{n}\" for n in range(1,9) for e in string.ascii_uppercase[0:8]] \n",
    "for e in range(len(board)):\n",
    "    if e%8==0:\n",
    "        print()\n",
    "    print(board[e], end=\" \")\n"
   ]
  },
  {
   "cell_type": "markdown",
   "metadata": {},
   "source": [
    "---\n",
    "## 5. Dice rolls convergence (**)\n",
    "\n",
    "Simulate: \n",
    "\n",
    "&nbsp; a) &nbsp; 100 dice rolls and count the number of outcome six. (*)\n",
    "\n",
    "&nbsp; b) &nbsp; 10, 100, 1000, 10000, 100000, 1000000 dice rolls. Count the number of outcome six in each simulation and store it in a list. Compute the probability of outcome six in each simulation. (**)\n",
    "\n",
    "&nbsp; c) &nbsp; Use matplotlib to plot this list. (*)\n",
    "\n",
    "<details>\n",
    "\n",
    "<summary>Hint </summary>\n",
    "\n",
    "Use this code for plot settings: \n",
    "\n",
    "```python\n",
    "plt.plot(probability_six, '-*')\n",
    "plt.title(\"Probability of six for different number of rolls\")\n",
    "plt.xticks([0,1,2,3,4,5], num_rolls);\n",
    "plt.xlabel(\"Number of dice rolls\")\n",
    "plt.ylabel(\"Probability\")\n",
    "\n",
    "```\n",
    "</details>\n",
    "\n",
    "<details>\n",
    "\n",
    "<summary>Answer </summary>\n",
    "\n",
    "a)\n",
    "```\n",
    "The number of outcome six in 100 dice rolls is: 17 \n",
    "```\n",
    "\n",
    "b) \n",
    "```\n",
    "Count number of six: [1, 21, 161, 1642, 16560, 166406]\n",
    "P(six) = [0.1, 0.21, 0.161, 0.1642, 0.1656, 0.1664]\n",
    "```\n",
    "\n",
    "c) Note that the graph changes due to random simulation. To reproduce this result, use \n",
    "\n",
    "```python\n",
    "random.seed(1)\n",
    "```\n",
    "\n",
    "<img align=\"left\" src=\"../assets/probability_six_graph.png\" width=\"300\"/>\n",
    "\n",
    "</details>"
   ]
  },
  {
   "cell_type": "code",
   "execution_count": 194,
   "metadata": {},
   "outputs": [
    {
     "name": "stdout",
     "output_type": "stream",
     "text": [
      "a) number_of_sixes = 20\n",
      "b1) [2, 10, 165, 1646, 16561, 166409]\n",
      "b2) [20.0, 10.0, 16.5, 16.46, 16.56, 16.64]\n"
     ]
    },
    {
     "data": {
      "text/plain": [
       "Text(0, 0.5, 'y')"
      ]
     },
     "execution_count": 194,
     "metadata": {},
     "output_type": "execute_result"
    },
    {
     "data": {
      "image/png": "[encoded data removed]",
      "text/plain": [
       "<Figure size 640x480 with 1 Axes>"
      ]
     },
     "metadata": {},
     "output_type": "display_data"
    }
   ],
   "source": [
    "#04.05\n",
    "import random\n",
    "from random import randint as rng\n",
    "random.seed(1)\n",
    "\n",
    "number_of_sixes = sum([1 for r in range(100) if rng(1,6) == 6])\n",
    "print(f\"a) {number_of_sixes = }\") \n",
    "\n",
    "def roll_the_dice(rolls):\n",
    "   return sum([1 for r in range(rolls) if rng(1,6) == 6])\n",
    "   \n",
    "set_of_sixes = [roll_the_dice(10**r) for r in range(1,7)]\n",
    "print(f\"b1) {set_of_sixes}\")\n",
    "\n",
    "probability_of_sixes = [round((100/10**r)*set_of_sixes[r-1], 2) for r in range(1,7)]\n",
    "print(f\"b2) {probability_of_sixes}\")\n",
    "\n",
    "\n",
    "import matplotlib.pyplot as plt \n",
    "\n",
    "\n",
    "\n",
    "plt.plot( probability_of_sixes, '-*'  )\n",
    "plt.title(\"Plot Probability\")\n",
    "plt.xticks([0,1,2,3,4,5,6])\n",
    "plt.xlabel(\"x\")\n",
    "plt.ylabel(\"y\")\n"
   ]
  },
  {
   "cell_type": "markdown",
   "metadata": {},
   "source": [
    "--- \n",
    "## 6. Monte Carlo simulation (**)\n",
    "\n",
    "&nbsp; a) Simulate 5000 uniformly distributed points between -1 and 1, $X\\sim U(-1,1)$. Now calculate the Euclidean distances between each point and the origin (0,0), $d_i = \\sqrt{x_i^2 + y_i^2}$. For $d_i < 1$ plot the point with one color, and for $d_i > 1$ plot the point in another color, $i = \\{1,\\ldots, 5000\\}$.  (**)\n",
    "\n",
    "&nbsp; b) Calculate the fraction between number of inner points and number of outer points. What do you this will converge to when number of points reaches infinity? (**)\n",
    "\n",
    "\n",
    "<details>\n",
    "\n",
    "<summary>Hint</summary>\n",
    "\n",
    "a) \n",
    "\n",
    "Try solve this task with pen and paper before approaching to code it.\n",
    "\n",
    "b)\n",
    "\n",
    "Think in terms of theoretical areas. Also try to increase the number of simulated points, to see if you find convergence.\n",
    "\n",
    "</details>\n",
    "\n",
    "<details>\n",
    "\n",
    "<summary>Answer</summary>\n",
    "\n",
    "\n",
    "a) \n",
    "\n",
    "<img src=\"../assets/MC_simulation_5k.png\" width = 300>\n",
    "\n",
    "\n",
    "b) \n",
    "\n",
    "0.7908\n",
    "\n",
    "No answer here, try to prove it theoretically. \n",
    "\n",
    "\n",
    "</details>"
   ]
  },
  {
   "cell_type": "code",
   "execution_count": 27,
   "metadata": {},
   "outputs": [
    {
     "name": "stdout",
     "output_type": "stream",
     "text": [
      "[(-10, -9), (-10, -9), (-10, -10), (-10, -10)]\n"
     ]
    },
    {
     "data": {
      "image/png": "[encoded data removed]",
      "text/plain": [
       "<Figure size 640x480 with 1 Axes>"
      ]
     },
     "metadata": {},
     "output_type": "display_data"
    },
    {
     "data": {
      "text/plain": [
       "'\\nplt.plot( liz, \\'-*\\', color=set_color(x))\\nplt.title(\"Plot Probability\")\\n#plt.xticks(liz)\\n#plt.color(\"red\")\\nplt.xlabel(\"x\")\\nplt.ylabel(\"y\")\\n'"
      ]
     },
     "execution_count": 27,
     "metadata": {},
     "output_type": "execute_result"
    }
   ],
   "source": [
    "import math\n",
    "liz=[]\n",
    "'''\n",
    "for i in range(-100000,0,4):\n",
    "    liz.append(i)\n",
    "for i in range(1,100001,4):\n",
    "    liz.append(i)\n",
    "liz = [round(e*0.00001,5) for e in liz]\n",
    "'''\n",
    "liz = [(x, y) for y in range(-10,11,1) for x in range(-10,11,1) ]\n",
    "\n",
    "\"\"\"\n",
    "for i in range(-100,0,4):\n",
    "    liz.append(i)\n",
    "for i in range(1,101,4):\n",
    "    liz.append(i)\n",
    "liz = [round(e*0.01,5) for e in liz]\n",
    "\"\"\"\n",
    "#print(len(liz))\n",
    "#print(liz)\n",
    "\n",
    "#liz_euclidean = [math.sqrt(e**2+e**2) for e in liz]\n",
    "#print(liz_euclidean)\n",
    "def euclidean(x,y):\n",
    "    return round(math.sqrt(x**2+y**2))\n",
    "liz_euclidean = [(x, y) for y in liz[1] for x in liz[0]]\n",
    "print(liz_euclidean)\n",
    "def set_color(xy):\n",
    "    return 'red' if -5 < xy[0] < 5 or -5 < xy[1] < 5 else 'green'\n",
    "\n",
    "import matplotlib.pyplot as plt \n",
    "\n",
    "for xy in liz:\n",
    "    plt.scatter(xy[0],xy[1],color=set_color(xy))\n",
    "plt.show()\n",
    "\n",
    "\n",
    "\n",
    "\"\"\"\n",
    "plt.plot( liz, '-*', color=set_color(x))\n",
    "plt.title(\"Plot Probability\")\n",
    "#plt.xticks(liz)\n",
    "#plt.color(\"red\")\n",
    "plt.xlabel(\"x\")\n",
    "plt.ylabel(\"y\")\n",
    "\"\"\""
   ]
  },
  {
   "cell_type": "markdown",
   "metadata": {},
   "source": [
    "--- \n",
    "## 7. A cute rabbit among two ferocious snakes (**)\n",
    "\n",
    "There are three identical doors, behind two of them, there are ferocious snakes and behind one of them is a cute little rabbit. Your aim is to pick a door and get the cute rabbit. You start picking one door randomly and suddenly another door opens and snake slithers away *pssss*. Now you have a choice to either stay with your door or change to the remaining door. \n",
    "\n",
    "<img src=\"../assets/snakes_rabbits.png\" width = 200>\n",
    "\n",
    "&nbsp; a) What is your choice and why? (**)\n",
    "\n",
    "&nbsp; b) Randomly assign which door has the rabbit, and randomly pick an initial door. Now simulate 10, 100, 1000, 10000, 100000, 1000000 times for staying and for switching doors. Calculate the proportion of finding the rabbits for each set of simulations. Plot the results (**)\n",
    "\n",
    "\n",
    "<details>\n",
    "\n",
    "<summary>Hint</summary>\n",
    "\n",
    "a) \n",
    "\n",
    "Try to reason using probability.\n",
    "\n",
    "\n",
    "</details>\n",
    "\n",
    "<details>\n",
    "\n",
    "<summary>Answer</summary>\n",
    "\n",
    "\n",
    "a) \n",
    "\n",
    "You will simulate the answer in b).\n",
    "\n",
    "b) \n",
    "\n",
    "<img src=\"../assets/mh_simulations.png\" width = 300>\n",
    "\n",
    "\n",
    "\n",
    "</details>"
   ]
  },
  {
   "cell_type": "markdown",
   "metadata": {},
   "source": [
    "###### #04.07a\n",
    " __A)__ *My choice is to change to the remaining door because during my first pick there where a 33% chanche of picking the rabbit but by eliminating one of the snakes its now a 50/50 game except the knowledeg of the past game carries over to this new game thus changing my pick will give me a 66% chance of being right. It's a problem that becomes more clear if you increas the initial choice to 100 and removes all 98 choices that are wrong.*"
   ]
  },
  {
   "cell_type": "code",
   "execution_count": 69,
   "metadata": {},
   "outputs": [
    {
     "name": "stdout",
     "output_type": "stream",
     "text": [
      "[3, 36, 313, 3414, 33063]\n",
      "[5, 76, 690, 6692, 66532]\n",
      "[1.67, 2.11, 2.2, 1.96, 2.01]\n",
      "[167, 211, 220, 196, 201]\n"
     ]
    },
    {
     "data": {
      "text/plain": [
       "Text(0, 0.5, 'y:1 Ratio of Success')"
      ]
     },
     "execution_count": 69,
     "metadata": {},
     "output_type": "execute_result"
    },
    {
     "data": {
      "image/png": "[encoded data removed]",
      "text/plain": [
       "<Figure size 640x480 with 1 Axes>"
      ]
     },
     "metadata": {},
     "output_type": "display_data"
    }
   ],
   "source": [
    "#04.07b\n",
    "from random import shuffle\n",
    "def rng(switch):\n",
    "    liz=[True,False,False]\n",
    "    shuffle(liz)\n",
    "    liz = liz[0:2] if liz[2]==False else liz[::2]\n",
    "    return liz[1] if switch else liz[0]\n",
    "\n",
    "liz_stay=list()\n",
    "liz_switch=list()\n",
    "for r1 in range(1,6):\n",
    "    liz_stay.append( sum([True for r2 in range(10**r1) if rng(False)]) )\n",
    "    liz_switch.append( sum([True for r2 in range(10**r1) if rng(True)]) )\n",
    "print(liz_stay)\n",
    "print(liz_switch)\n",
    "\n",
    "liz_ratio = list() \n",
    "liz_ratio = [round(liz_switch[r]/liz_stay[r], 2) for r in range(5)]\n",
    "liz_chance = [round((100/liz_stay[r])*liz_switch[r]) for r in range(5)]\n",
    "print(liz_ratio)\n",
    "print(liz_chance)\n",
    "\n",
    "import matplotlib.pyplot as plt\n",
    "\n",
    "\n",
    "fig = plt.figure()\n",
    "ax = fig.add_subplot(1,1,1)\n",
    "ax.set_facecolor((0.1, 0.1, 0.1))\n",
    "ax.tick_params(axis='x', colors=(0.8, 0.8, 0.8))\n",
    "ax.tick_params(axis='y', colors=(0.8, 0.8, 0.8))\n",
    "ax.yaxis.label.set_color((0.8, 0.8, 0.8))\n",
    "ax.xaxis.label.set_color((0.8, 0.8, 0.8))\n",
    "ax.spines['bottom'].set_color((0.8, 0.8, 0.8))\n",
    "ax.spines['left'].set_color((0.8, 0.8, 0.8))\n",
    "ax.spines['top'].set_color((0.12, 0.12, 0.12))\n",
    "ax.spines['right'].set_color((0.12, 0.12, 0.12))\n",
    "fig.set_facecolor((0.12, 0.12, 0.12))\n",
    "plt.grid(visible=None, which='major', axis='both', color=(0.2, 0.2, 0.2))\n",
    "\n",
    "plt.plot(range(1,6,1),liz_ratio)\n",
    "plt.xlabel(\"Number of Games x^10 \")\n",
    "plt.ylabel(\"y:1 Ratio of Success\")\n",
    "\n"
   ]
  },
  {
   "cell_type": "markdown",
   "metadata": {},
   "source": [
    "---\n",
    "\n",
    "pr0fez Giang\n",
    "\n",
    "[LinkedIn][linkedIn_pr0fez]\n",
    "\n",
    "[GitHub portfolio][github_portfolio]\n",
    "\n",
    "[linkedIn_pr0fez]: https://www.linkedin.com/in/pr0fezgiang/\n",
    "[github_portfolio]: https://github.com/pr0fez/Portfolio-pr0fez-Giang\n",
    "\n",
    "---"
   ]
  }
 ],
 "metadata": {
  "kernelspec": {
   "display_name": "Python 3.10.1 64-bit",
   "language": "python",
   "name": "python3"
  },
  "language_info": {
   "codemirror_mode": {
    "name": "ipython",
    "version": 3
   },
   "file_extension": ".py",
   "mimetype": "text/x-python",
   "name": "python",
   "nbconvert_exporter": "python",
   "pygments_lexer": "ipython3",
   "version": "3.12.5"
  },
  "orig_nbformat": 4,
  "vscode": {
   "interpreter": {
    "hash": "7e1998ff7f8aa20ada591c520b972326324e5ea05489af9e422744c7c09f6dad"
   }
  }
 },
 "nbformat": 4,
 "nbformat_minor": 2
}
