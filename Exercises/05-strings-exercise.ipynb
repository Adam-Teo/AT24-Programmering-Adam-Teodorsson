{
 "cells": [
  {
   "cell_type": "markdown",
   "metadata": {},
   "source": [
    "<a href=\"https://colab.research.google.com/github/pr0fez/AI24-Programmering/blob/master/Exercises/05-strings-exercise.ipynb\" target=\"_parent\"><img align=\"left\" src=\"https://colab.research.google.com/assets/colab-badge.svg\" alt=\"Open In Colab\"/></a> &nbsp; to see hints and answers."
   ]
  },
  {
   "cell_type": "markdown",
   "metadata": {},
   "source": [
    "# strings exercises\n",
    "\n",
    "---\n",
    "These are introductory exercises in Python with focus in **strings**.\n",
    "\n",
    "<p class = \"alert alert-info\" role=\"alert\"><b>Remember</b> to use <b>descriptive variable names</b> in order to get readable code </p>\n",
    "\n",
    "<p class = \"alert alert-info\" role=\"alert\"><b>Remember</b> to format your answers in a neat way using <b>f-strings</b>\n",
    "\n",
    "<p class = \"alert alert-info\" role=\"alert\"><b>Remember</b> to format your input questions in a pedagogical way to guide the user\n",
    "\n",
    "The number of stars (\\*), (\\*\\*), (\\*\\*\\*) denotes the difficulty level of the task\n",
    "\n",
    "---"
   ]
  },
  {
   "cell_type": "markdown",
   "metadata": {},
   "source": [
    "## 1. Counting letters (*)\n",
    "\n",
    "Let the user input a word: \n",
    "\n",
    "&nbsp; a) &nbsp; print out the number of letters in the word. (*) \n",
    "  \n",
    "&nbsp; b) &nbsp; print out the number of **uppercase** and **lowercase** letters of the word (*)   \n"
   ]
  },
  {
   "cell_type": "code",
   "execution_count": 8,
   "metadata": {},
   "outputs": [
    {
     "name": "stdout",
     "output_type": "stream",
     "text": [
      "a)  10\n"
     ]
    }
   ],
   "source": [
    "#05.01a\n",
    "import re\n",
    "def number_of_letters():\n",
    "    uip = input(\"Input a word: \")\n",
    "    return len(re.findall(\"[a-zA-Z]\", uip))\n",
    "\n",
    "print(f\"a)  {number_of_letters()}\" )"
   ]
  },
  {
   "cell_type": "code",
   "execution_count": 33,
   "metadata": {},
   "outputs": [
    {
     "name": "stdout",
     "output_type": "stream",
     "text": [
      " \n",
      "      b)  number of lowercase letters == 2\n",
      "          number of uppercase lerrers == 1\n"
     ]
    }
   ],
   "source": [
    "#05.01b\n",
    "import re\n",
    "def number_of_letters():\n",
    "    uip = input(\"Input a word: \")\n",
    "    upper = re.findall(\"[A-Z]\", uip)\n",
    "    lower = re.findall(\"[a-z]\", uip)\n",
    "    return  (len(lower), len(upper))\n",
    "   \n",
    "\n",
    "print(f\"\"\" \n",
    "      b)  number of lowercase letters == {number_of_letters()[0]}\n",
    "          number of uppercase lerrers == {number_of_letters()[1]}\"\"\" )"
   ]
  },
  {
   "cell_type": "markdown",
   "metadata": {},
   "source": [
    "---\n",
    "## 2. Counting words (*)\n",
    "\n",
    "Count the number of words in this sentence: \"A picture says more than a thousand words, a matematical formula says more than a thousand pictures.\" (*) \n",
    "\n",
    "<details>\n",
    "\n",
    "<summary>Answer</summary>\n",
    "\n",
    "```\n",
    "There are 17 words in that sentence\n",
    "```"
   ]
  },
  {
   "cell_type": "code",
   "execution_count": 40,
   "metadata": {},
   "outputs": [
    {
     "name": "stdout",
     "output_type": "stream",
     "text": [
      " \n",
      "      b)  number of words == 17\n"
     ]
    }
   ],
   "source": [
    "#05.02\n",
    "import re\n",
    "def number_of_words(txt:str)->int:\n",
    "    return  len( re.findall(r\"[a-zA-Z]+[\\W]+\", txt) )\n",
    "  \n",
    "sentence = \"A picture says more than a thousand words, a matematical formula says more than a thousand pictures.\"\n",
    "print(f\"\"\" \n",
    "      b)  number of words == {number_of_words(sentence)}\"\"\" )"
   ]
  },
  {
   "cell_type": "markdown",
   "metadata": {},
   "source": [
    "---\n",
    "## 3. Palindrome (*)\n",
    "\n",
    "A palindrome is a sequence of characters that is the same, when read forward as backwards (ignoring spaces). For example:\n",
    "- \"Anna\" is a palindrome\n",
    "- \"Ni talar bra latin\"\n",
    "- bjkjb \n",
    "\n",
    "Let the user input a sequence of characters and check if it is a palindrome. (*)"
   ]
  },
  {
   "cell_type": "code",
   "execution_count": 49,
   "metadata": {},
   "outputs": [
    {
     "name": "stdout",
     "output_type": "stream",
     "text": [
      "nitalarbralat\n",
      "'Ni talar bra lat' is NOT a pallindrome.\n"
     ]
    }
   ],
   "source": [
    "#05.03\n",
    "def palindrome(txt:str)->str:\n",
    "    prep = \"\".join(txt.split()).lower()\n",
    "    print(prep)\n",
    "    return  \"\" if prep==prep[::-1] else \"NOT \"\n",
    "   \n",
    "uip = input(\"Input a word: \")\n",
    "print(f\"\"\"'{uip}' is {palindrome(uip)}a pallindrome.\"\"\" )"
   ]
  },
  {
   "cell_type": "markdown",
   "metadata": {},
   "source": [
    "---\n",
    "## 4. Vowels (**)\n",
    "\n",
    "Count the number of vowels in this sentence: \"Pure mathematics is, in its way, the poetry of logical ideas\"\n",
    "\n",
    "<details>\n",
    "\n",
    "<summary>Answer</summary>\n",
    "\n",
    "```\n",
    "\n",
    "There are 22 vowels in this sentence\n",
    "\n",
    "```\n",
    "</details>"
   ]
  },
  {
   "cell_type": "code",
   "execution_count": 52,
   "metadata": {},
   "outputs": [
    {
     "name": "stdout",
     "output_type": "stream",
     "text": [
      "The number of vowels are: 22\n"
     ]
    }
   ],
   "source": [
    "#05.04\n",
    "import re\n",
    "def number_of_vowels(txt:str)->int:\n",
    "    return len(re.findall(\"[AaOoUuEeIiYy]\", txt))\n",
    "\n",
    "sentence = \"Pure mathematics is, in its way, the poetry of logical ideas\"\n",
    "print(f\"The number of vowels are: {number_of_vowels(sentence)}\" )"
   ]
  },
  {
   "cell_type": "markdown",
   "metadata": {},
   "source": [
    "---\n",
    "## 5. Encryption (**)\n",
    "\n",
    "Let the user input a word and: \n",
    "\n",
    "&nbsp; a) &nbsp; encrypt the message by replacing each letter with the next letter. If the letter is in the end of the alphabet, use the first letter instead. \n",
    "\n",
    "e.g. in Swedish: \"höst\" $\\rightarrow$ \"iatu\"\n",
    "\n",
    "&nbsp; b) &nbsp; decrypt the message\n",
    "\n",
    "&nbsp; c) &nbsp; let the user choose either encryption or decryption."
   ]
  },
  {
   "cell_type": "code",
   "execution_count": 69,
   "metadata": {},
   "outputs": [
    {
     "name": "stdout",
     "output_type": "stream",
     "text": [
      "Hsfbu Tdpuu A\n",
      "Great Scott Z\n"
     ]
    }
   ],
   "source": [
    "#05.05\n",
    "#65-90\n",
    "#97-122\n",
    "def encryption(txt:str)->str:\n",
    "    uip = True if input(\"Do you wish to decrypt rather enrypt? (yes)\") == 'yes' else False\n",
    "    txt_split = [e for e in txt]\n",
    "    \n",
    "    for i in range(len(txt_split)): \n",
    "        e = txt_split[i]\n",
    "        oe = ord(e)\n",
    "        \n",
    "        if uip:\n",
    "            if 65 < oe < 91 or 97 < oe < 123:\n",
    "                txt_split[i] = chr(oe-1)\n",
    "\n",
    "            elif oe == 65 or oe == 96:\n",
    "                txt_split[i] = chr(oe+25)         \n",
    "        else:\n",
    "            if 64 < oe < 90 or 96 < oe < 122:\n",
    "                txt_split[i] = chr(oe+1)\n",
    "\n",
    "            elif oe == 90 or oe == 122:\n",
    "                txt_split[i] = chr(oe-25) \n",
    "    \n",
    "    return \"\".join(txt_split)\n",
    "\n",
    "        \n",
    "print(encryption(\"Great Scott Z\"))\n",
    "print(encryption(\"Hsfbu Tdpuu A\"))\n"
   ]
  },
  {
   "cell_type": "markdown",
   "metadata": {},
   "source": [
    "---\n",
    "\n",
    "pr0fez Giang\n",
    "\n",
    "[LinkedIn][linkedIn_pr0fez]\n",
    "\n",
    "[GitHub portfolio][github_portfolio]\n",
    "\n",
    "[linkedIn_pr0fez]: https://www.linkedin.com/in/pr0fezgiang/\n",
    "[github_portfolio]: https://github.com/pr0fez/Portfolio-pr0fez-Giang\n",
    "\n",
    "---"
   ]
  }
 ],
 "metadata": {
  "kernelspec": {
   "display_name": "Python 3.9.6 64-bit",
   "language": "python",
   "name": "python3"
  },
  "language_info": {
   "codemirror_mode": {
    "name": "ipython",
    "version": 3
   },
   "file_extension": ".py",
   "mimetype": "text/x-python",
   "name": "python",
   "nbconvert_exporter": "python",
   "pygments_lexer": "ipython3",
   "version": "3.12.5"
  },
  "orig_nbformat": 4,
  "vscode": {
   "interpreter": {
    "hash": "0da836a34428266995a795f1e1e27b816fa1c02f148d9728b3fbbbc5459afca6"
   }
  }
 },
 "nbformat": 4,
 "nbformat_minor": 2
}
